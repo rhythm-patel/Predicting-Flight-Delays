{
  "nbformat": 4,
  "nbformat_minor": 0,
  "metadata": {
    "colab": {
      "name": "Project-ML.ipynb",
      "provenance": [],
      "collapsed_sections": [
        "DCeXnEQYd-gE",
        "WDjSNG9zvyTL",
        "qeDQrSVshV5h",
        "_D0yMjhIWlLc",
        "_DFd7goDv-KH",
        "PsLIw0GOqqHG"
      ]
    },
    "kernelspec": {
      "display_name": "Python 3",
      "name": "python3"
    }
  },
  "cells": [
    {
      "cell_type": "markdown",
      "metadata": {
        "id": "0Tz7Fi2PvewA"
      },
      "source": [
        "# **Predicting Flight Delays**\n",
        "*Anuneet Anand [2018022]*\n",
        "\n",
        "*Mohnish Agrawal [2018053]*\n",
        "\n",
        "*Rhythm Patel [2018083]*"
      ]
    },
    {
      "cell_type": "markdown",
      "metadata": {
        "id": "QZVSJsO-vlVc"
      },
      "source": [
        "### **Importing Libraries & Uploading Datasets**"
      ]
    },
    {
      "cell_type": "code",
      "metadata": {
        "colab": {
          "base_uri": "https://localhost:8080/"
        },
        "id": "X1he5kiRvkjd",
        "outputId": "9d1e429b-2d65-4e66-eda4-ea7ed486a7b9"
      },
      "source": [
        "from google.colab import drive\n",
        "drive.mount(\"/content/gdrive\")"
      ],
      "execution_count": null,
      "outputs": [
        {
          "output_type": "stream",
          "text": [
            "Mounted at /content/gdrive\n"
          ],
          "name": "stdout"
        }
      ]
    },
    {
      "cell_type": "code",
      "metadata": {
        "id": "ppBUb7twvt-j"
      },
      "source": [
        "!pip install sweetviz\n",
        "import datetime\n",
        "import numpy as np\n",
        "import pandas as pd\n",
        "import sweetviz as sv\n",
        "import seaborn as sns\n",
        "import matplotlib.pyplot as plt\n",
        "from math import sin,cos,pi\n",
        "from sklearn import metrics\n",
        "from sklearn.preprocessing import LabelEncoder, OneHotEncoder, StandardScaler\n",
        "from sklearn.model_selection import train_test_split\n",
        "from sklearn.linear_model import LogisticRegression, SGDClassifier\n",
        "from sklearn.model_selection import GridSearchCV\n",
        "from sklearn import svm\n",
        "from imblearn.ensemble import BalancedBaggingClassifier\n",
        "from matplotlib.colors import LinearSegmentedColormap\n",
        "import tensorflow.compat.v2 as tf\n",
        "%matplotlib inline\n",
        "plt.style.use('seaborn')"
      ],
      "execution_count": null,
      "outputs": []
    },
    {
      "cell_type": "code",
      "metadata": {
        "colab": {
          "base_uri": "https://localhost:8080/"
        },
        "id": "Q8QuGGn5vwCx",
        "outputId": "a017343e-0300-4441-830a-4a518df03341"
      },
      "source": [
        "Airlines = pd.read_csv('/content/gdrive/My Drive/ML_Project/airlines.csv')\n",
        "Airports = pd.read_csv('/content/gdrive/My Drive/ML_Project/airports.csv')\n",
        "Flights = pd.read_csv('/content/gdrive/My Drive/ML_Project/flights.csv')"
      ],
      "execution_count": null,
      "outputs": [
        {
          "output_type": "stream",
          "text": [
            "/usr/local/lib/python3.6/dist-packages/IPython/core/interactiveshell.py:2718: DtypeWarning: Columns (7,8) have mixed types.Specify dtype option on import or set low_memory=False.\n",
            "  interactivity=interactivity, compiler=compiler, result=result)\n"
          ],
          "name": "stderr"
        }
      ]
    },
    {
      "cell_type": "markdown",
      "metadata": {
        "id": "DCeXnEQYd-gE"
      },
      "source": [
        "### **Dataset Overview**"
      ]
    },
    {
      "cell_type": "markdown",
      "metadata": {
        "id": "VVh7xvCD09Hu"
      },
      "source": [
        "***Dataset Descriptions***"
      ]
    },
    {
      "cell_type": "code",
      "metadata": {
        "colab": {
          "base_uri": "https://localhost:8080/"
        },
        "id": "oqiSTBpo08fq",
        "outputId": "25db1cc1-4c39-405c-8a10-f693708185e8"
      },
      "source": [
        "print(Flights.info(verbose = True, null_counts=True))\n",
        "print(Airlines.info(verbose = True, null_counts=True))\n",
        "print(Airports.info(verbose = True, null_counts=True))"
      ],
      "execution_count": null,
      "outputs": [
        {
          "output_type": "stream",
          "text": [
            "<class 'pandas.core.frame.DataFrame'>\n",
            "RangeIndex: 5819079 entries, 0 to 5819078\n",
            "Data columns (total 31 columns):\n",
            " #   Column               Non-Null Count    Dtype  \n",
            "---  ------               --------------    -----  \n",
            " 0   YEAR                 5819079 non-null  int64  \n",
            " 1   MONTH                5819079 non-null  int64  \n",
            " 2   DAY                  5819079 non-null  int64  \n",
            " 3   DAY_OF_WEEK          5819079 non-null  int64  \n",
            " 4   AIRLINE              5819079 non-null  object \n",
            " 5   FLIGHT_NUMBER        5819079 non-null  int64  \n",
            " 6   TAIL_NUMBER          5804358 non-null  object \n",
            " 7   ORIGIN_AIRPORT       5819079 non-null  object \n",
            " 8   DESTINATION_AIRPORT  5819079 non-null  object \n",
            " 9   SCHEDULED_DEPARTURE  5819079 non-null  int64  \n",
            " 10  DEPARTURE_TIME       5732926 non-null  float64\n",
            " 11  DEPARTURE_DELAY      5732926 non-null  float64\n",
            " 12  TAXI_OUT             5730032 non-null  float64\n",
            " 13  WHEELS_OFF           5730032 non-null  float64\n",
            " 14  SCHEDULED_TIME       5819073 non-null  float64\n",
            " 15  ELAPSED_TIME         5714008 non-null  float64\n",
            " 16  AIR_TIME             5714008 non-null  float64\n",
            " 17  DISTANCE             5819079 non-null  int64  \n",
            " 18  WHEELS_ON            5726566 non-null  float64\n",
            " 19  TAXI_IN              5726566 non-null  float64\n",
            " 20  SCHEDULED_ARRIVAL    5819079 non-null  int64  \n",
            " 21  ARRIVAL_TIME         5726566 non-null  float64\n",
            " 22  ARRIVAL_DELAY        5714008 non-null  float64\n",
            " 23  DIVERTED             5819079 non-null  int64  \n",
            " 24  CANCELLED            5819079 non-null  int64  \n",
            " 25  CANCELLATION_REASON  89884 non-null    object \n",
            " 26  AIR_SYSTEM_DELAY     1063439 non-null  float64\n",
            " 27  SECURITY_DELAY       1063439 non-null  float64\n",
            " 28  AIRLINE_DELAY        1063439 non-null  float64\n",
            " 29  LATE_AIRCRAFT_DELAY  1063439 non-null  float64\n",
            " 30  WEATHER_DELAY        1063439 non-null  float64\n",
            "dtypes: float64(16), int64(10), object(5)\n",
            "memory usage: 1.3+ GB\n",
            "None\n",
            "<class 'pandas.core.frame.DataFrame'>\n",
            "RangeIndex: 14 entries, 0 to 13\n",
            "Data columns (total 2 columns):\n",
            " #   Column     Non-Null Count  Dtype \n",
            "---  ------     --------------  ----- \n",
            " 0   IATA_CODE  14 non-null     object\n",
            " 1   AIRLINE    14 non-null     object\n",
            "dtypes: object(2)\n",
            "memory usage: 352.0+ bytes\n",
            "None\n",
            "<class 'pandas.core.frame.DataFrame'>\n",
            "RangeIndex: 322 entries, 0 to 321\n",
            "Data columns (total 7 columns):\n",
            " #   Column     Non-Null Count  Dtype  \n",
            "---  ------     --------------  -----  \n",
            " 0   IATA_CODE  322 non-null    object \n",
            " 1   AIRPORT    322 non-null    object \n",
            " 2   CITY       322 non-null    object \n",
            " 3   STATE      322 non-null    object \n",
            " 4   COUNTRY    322 non-null    object \n",
            " 5   LATITUDE   319 non-null    float64\n",
            " 6   LONGITUDE  319 non-null    float64\n",
            "dtypes: float64(2), object(5)\n",
            "memory usage: 17.7+ KB\n",
            "None\n"
          ],
          "name": "stdout"
        }
      ]
    },
    {
      "cell_type": "markdown",
      "metadata": {
        "id": "nNfgxwot2DJx"
      },
      "source": [
        "***Cancellation Reasons***"
      ]
    },
    {
      "cell_type": "code",
      "metadata": {
        "colab": {
          "base_uri": "https://localhost:8080/"
        },
        "id": "_L1M0dnh2IU-",
        "outputId": "92fbd978-feb0-4b22-b872-3c2287134ad0"
      },
      "source": [
        "cancelled = Flights['CANCELLATION_REASON']\n",
        "cancelled.dropna(inplace=True)\n",
        "cancelledCount = dict(cancelled.value_counts())\n",
        "labels = ['Weather','Airline','National Air System','Security']\n",
        "sizes = cancelledCount.values()\n",
        "\n",
        "fig, ax = plt.subplots(figsize=(8,8))\n",
        "ax.pie(sizes, labels=labels, pctdistance=1.25, labeldistance=1.45, autopct='%1.2f%%', startangle=90, textprops={'fontsize': 20})\n",
        "ax.axis('equal')  # Equal aspect ratio ensures that pie is drawn as a circle.\n",
        "plt.show()"
      ],
      "execution_count": null,
      "outputs": [
        {
          "output_type": "display_data",
          "data": {
            "image/png": "[encoded data removed]",
            "text/plain": [
              "<Figure size 576x576 with 1 Axes>"
            ]
          },
          "metadata": {
            "tags": []
          }
        }
      ]
    },
    {
      "cell_type": "markdown",
      "metadata": {
        "id": "wWQSKdVV2HnK"
      },
      "source": [
        "***Flights on Different Days of Week***"
      ]
    },
    {
      "cell_type": "code",
      "metadata": {
        "colab": {
          "base_uri": "https://localhost:8080/"
        },
        "id": "BRvXtDtt2TZN",
        "outputId": "bd16792e-0bf0-48cd-c51c-c26683bb2ee5"
      },
      "source": [
        "daysOfWeek = Flights['DAY_OF_WEEK']\n",
        "dayCounts = dict(daysOfWeek.value_counts())\n",
        "dayFreq = {}\n",
        "for day in sorted(dayCounts):\n",
        "    dayFreq[day] = dayCounts[day]\n",
        "\n",
        "plt.figure(figsize=(12,8))\n",
        "flightFreq = list(dayFreq.values())\n",
        "flightFreq.append(dayFreq[1]) # add monday\n",
        "flightFreq.append(dayFreq[2]) # add tuesday\n",
        "days = ['Mon','Tue','Wed','Thu','Fri','Sat','Sun','Mon.','Tue...']\n",
        "plt.plot(days,flightFreq)\n",
        "plt.xlabel(\"Days of week\", fontsize=16)\n",
        "plt.ylabel(\"No of flights\", fontsize=16)\n",
        "plt.title(\"No of flights on days of week\", fontsize=16)\n",
        "plt.tick_params(labelsize=16)\n",
        "plt.show()"
      ],
      "execution_count": null,
      "outputs": [
        {
          "output_type": "display_data",
          "data": {
            "image/png": "[encoded data removed]",
            "text/plain": [
              "<Figure size 864x576 with 1 Axes>"
            ]
          },
          "metadata": {
            "tags": []
          }
        }
      ]
    },
    {
      "cell_type": "markdown",
      "metadata": {
        "id": "40vxw2kY2WFF"
      },
      "source": [
        "***Flights in Different Months***"
      ]
    },
    {
      "cell_type": "code",
      "metadata": {
        "colab": {
          "base_uri": "https://localhost:8080/"
        },
        "id": "x_Nxmp7z2aCk",
        "outputId": "d679e909-4c89-445f-8d5e-2ce576b3c1a4"
      },
      "source": [
        "months = Flights['MONTH']\n",
        "monthCounts = dict(months.value_counts())\n",
        "monthFreq = {}\n",
        "for month in sorted(monthCounts):\n",
        "    monthFreq[month] = monthCounts[month]\n",
        "\n",
        "plt.figure(figsize=(12,8))\n",
        "flightFreq = list(monthFreq.values())\n",
        "monthsArr = ['Jan', 'Feb', 'Mar', 'Apr', 'May', 'Jun', 'Jul', 'Aug', 'Sep', 'Oct', 'Nov', 'Dec']\n",
        "plt.plot(monthsArr, flightFreq)\n",
        "plt.xlabel(\"Months\", fontsize=16)\n",
        "plt.ylabel(\"No of flights\", fontsize=16)\n",
        "plt.title(\"No of flights on different months\", fontsize=16)\n",
        "plt.tick_params(labelsize=16)\n",
        "plt.show()"
      ],
      "execution_count": null,
      "outputs": [
        {
          "output_type": "display_data",
          "data": {
            "image/png": "[encoded data removed]",
            "text/plain": [
              "<Figure size 864x576 with 1 Axes>"
            ]
          },
          "metadata": {
            "tags": []
          }
        }
      ]
    },
    {
      "cell_type": "markdown",
      "metadata": {
        "id": "u4FsvJAl2ab3"
      },
      "source": [
        "***Delay Threshold***"
      ]
    },
    {
      "cell_type": "code",
      "metadata": {
        "colab": {
          "base_uri": "https://localhost:8080/"
        },
        "id": "Rb3Jw720GPXQ",
        "outputId": "550563b8-cdda-4164-f8eb-66d6b065e73b"
      },
      "source": [
        "ttl = Flights.shape[0]\n",
        "threshold = 3\n",
        "delayLessThanThreshold = Flights[Flights['ARRIVAL_DELAY'] <= threshold].shape[0] / ttl\n",
        "delayLessThanThreshold"
      ],
      "execution_count": null,
      "outputs": [
        {
          "output_type": "execute_result",
          "data": {
            "text/plain": [
              "0.6780059181186576"
            ]
          },
          "metadata": {
            "tags": []
          },
          "execution_count": 8
        }
      ]
    },
    {
      "cell_type": "markdown",
      "metadata": {
        "id": "WDjSNG9zvyTL"
      },
      "source": [
        "### **Cleaning Datasets**"
      ]
    },
    {
      "cell_type": "markdown",
      "metadata": {
        "id": "cxma6aVR4mrS"
      },
      "source": [
        "***Dropping rows with NaN values and selecting data for January***"
      ]
    },
    {
      "cell_type": "code",
      "metadata": {
        "id": "9U2Ok4_dv2a0"
      },
      "source": [
        "Flights = Flights.iloc[:,:23]\n",
        "Flights.dropna(inplace=True)\n",
        "Flights = Flights[Flights[\"MONTH\"]==1]\n",
        "Flights.reset_index(inplace=True)"
      ],
      "execution_count": null,
      "outputs": []
    },
    {
      "cell_type": "markdown",
      "metadata": {
        "id": "FSJt4ZguI7M8"
      },
      "source": [
        "***Formatting Time***"
      ]
    },
    {
      "cell_type": "code",
      "metadata": {
        "id": "4CJwrkjHHuJy"
      },
      "source": [
        "def Time_Formatx(x):\n",
        "  if x == 2400:\n",
        "    x = 0\n",
        "  x = \"{0:04d}\".format(int(x))\n",
        "  T = datetime.time(int(x[0:2]), int(x[2:4]))\n",
        "  return T"
      ],
      "execution_count": null,
      "outputs": []
    },
    {
      "cell_type": "markdown",
      "metadata": {
        "id": "Q-BsiVjvRXXt"
      },
      "source": [
        "***Collecting Names of Airlines and Airports***"
      ]
    },
    {
      "cell_type": "code",
      "metadata": {
        "id": "A5KxJxAPOXQ3"
      },
      "source": [
        "Airline_Names = {}\n",
        "for i in range(len(Airlines)):\n",
        "  Airline_Names[Airlines[\"IATA_CODE\"][i]]=Airlines[\"AIRLINE\"][i]\n",
        "\n",
        "Airport_Names = {}\n",
        "for i in range(len(Airports)):\n",
        "  Airport_Names[Airports[\"IATA_CODE\"][i]]=Airports[\"AIRPORT\"][i]\n",
        "\n",
        "City_Names = {}\n",
        "for i in range(len(Airports)):\n",
        "  City_Names[Airports[\"IATA_CODE\"][i]]=Airports[\"CITY\"][i]"
      ],
      "execution_count": null,
      "outputs": []
    },
    {
      "cell_type": "markdown",
      "metadata": {
        "id": "c8zjl3rc44sN"
      },
      "source": [
        "***Merging Datasets & Selecting relevant columns***"
      ]
    },
    {
      "cell_type": "code",
      "metadata": {
        "colab": {
          "base_uri": "https://localhost:8080/",
          "height": 694
        },
        "id": "8ld1m30wNv-S",
        "outputId": "bf6ba2fa-3e29-4cc8-9435-80662155d0c2"
      },
      "source": [
        "df = pd.DataFrame()\n",
        "df['DATE'] = pd.to_datetime(Flights[['YEAR','MONTH', 'DAY']])\n",
        "df['DAY'] = Flights[\"DAY_OF_WEEK\"]\n",
        "df['AIRLINE'] = Flights[\"AIRLINE\"]\n",
        "df['AIRLINE_NAME'] = [Airline_Names[Flights[\"AIRLINE\"][x]] for x in range(len(Flights))]\n",
        "df['FLIGHT_NUMBER'] = Flights['FLIGHT_NUMBER']\n",
        "df['TAIL_NUMBER'] = Flights['TAIL_NUMBER']\n",
        "df['ORIGIN'] = Flights['ORIGIN_AIRPORT']\n",
        "df['ORIGIN_AIRPORT_NAME'] = [Airport_Names[Flights[\"ORIGIN_AIRPORT\"][x]] for x in range(len(Flights))]\n",
        "df['ORIGIN_CITY'] = [City_Names[Flights[\"ORIGIN_AIRPORT\"][x]] for x in range(len(Flights))]\n",
        "df['DESTINATION'] = Flights['DESTINATION_AIRPORT']\n",
        "df['DESTINATION_AIRPORT_NAME'] = [Airport_Names[Flights[\"DESTINATION_AIRPORT\"][x]] for x in range(len(Flights))]\n",
        "df['DESTINATION_CITY'] = [City_Names[Flights[\"DESTINATION_AIRPORT\"][x]] for x in range(len(Flights))]\n",
        "df['DISTANCE'] = Flights['DISTANCE']\n",
        "df['SCHEDULED_DEPARTURE'] = Flights['SCHEDULED_DEPARTURE'].apply(Time_Formatx)\n",
        "df['SCHEDULED_ARRIVAL'] = Flights['SCHEDULED_ARRIVAL'].apply(Time_Formatx)\n",
        "df['TAXI_OUT'] = Flights['TAXI_OUT']\n",
        "df['DEPARTURE_DELAY'] = Flights['DEPARTURE_DELAY']\n",
        "df['ARRIVAL_DELAY'] = Flights['ARRIVAL_DELAY']\n",
        "df = df[df.ARRIVAL_DELAY < 500]\n",
        "df"
      ],
      "execution_count": null,
      "outputs": [
        {
          "output_type": "execute_result",
          "data": {
            "text/html": [
              "<div>\n",
              "<style scoped>\n",
              "    .dataframe tbody tr th:only-of-type {\n",
              "        vertical-align: middle;\n",
              "    }\n",
              "\n",
              "    .dataframe tbody tr th {\n",
              "        vertical-align: top;\n",
              "    }\n",
              "\n",
              "    .dataframe thead th {\n",
              "        text-align: right;\n",
              "    }\n",
              "</style>\n",
              "<table border=\"1\" class=\"dataframe\">\n",
              "  <thead>\n",
              "    <tr style=\"text-align: right;\">\n",
              "      <th></th>\n",
              "      <th>DATE</th>\n",
              "      <th>DAY</th>\n",
              "      <th>AIRLINE</th>\n",
              "      <th>AIRLINE_NAME</th>\n",
              "      <th>FLIGHT_NUMBER</th>\n",
              "      <th>TAIL_NUMBER</th>\n",
              "      <th>ORIGIN</th>\n",
              "      <th>ORIGIN_AIRPORT_NAME</th>\n",
              "      <th>ORIGIN_CITY</th>\n",
              "      <th>DESTINATION</th>\n",
              "      <th>DESTINATION_AIRPORT_NAME</th>\n",
              "      <th>DESTINATION_CITY</th>\n",
              "      <th>DISTANCE</th>\n",
              "      <th>SCHEDULED_DEPARTURE</th>\n",
              "      <th>SCHEDULED_ARRIVAL</th>\n",
              "      <th>TAXI_OUT</th>\n",
              "      <th>DEPARTURE_DELAY</th>\n",
              "      <th>ARRIVAL_DELAY</th>\n",
              "    </tr>\n",
              "  </thead>\n",
              "  <tbody>\n",
              "    <tr>\n",
              "      <th>0</th>\n",
              "      <td>2015-01-01</td>\n",
              "      <td>4</td>\n",
              "      <td>AS</td>\n",
              "      <td>Alaska Airlines Inc.</td>\n",
              "      <td>98</td>\n",
              "      <td>N407AS</td>\n",
              "      <td>ANC</td>\n",
              "      <td>Ted Stevens Anchorage International Airport</td>\n",
              "      <td>Anchorage</td>\n",
              "      <td>SEA</td>\n",
              "      <td>Seattle-Tacoma International Airport</td>\n",
              "      <td>Seattle</td>\n",
              "      <td>1448</td>\n",
              "      <td>00:05:00</td>\n",
              "      <td>04:30:00</td>\n",
              "      <td>21.0</td>\n",
              "      <td>-11.0</td>\n",
              "      <td>-22.0</td>\n",
              "    </tr>\n",
              "    <tr>\n",
              "      <th>1</th>\n",
              "      <td>2015-01-01</td>\n",
              "      <td>4</td>\n",
              "      <td>AA</td>\n",
              "      <td>American Airlines Inc.</td>\n",
              "      <td>2336</td>\n",
              "      <td>N3KUAA</td>\n",
              "      <td>LAX</td>\n",
              "      <td>Los Angeles International Airport</td>\n",
              "      <td>Los Angeles</td>\n",
              "      <td>PBI</td>\n",
              "      <td>Palm Beach International Airport</td>\n",
              "      <td>West Palm Beach</td>\n",
              "      <td>2330</td>\n",
              "      <td>00:10:00</td>\n",
              "      <td>07:50:00</td>\n",
              "      <td>12.0</td>\n",
              "      <td>-8.0</td>\n",
              "      <td>-9.0</td>\n",
              "    </tr>\n",
              "    <tr>\n",
              "      <th>2</th>\n",
              "      <td>2015-01-01</td>\n",
              "      <td>4</td>\n",
              "      <td>US</td>\n",
              "      <td>US Airways Inc.</td>\n",
              "      <td>840</td>\n",
              "      <td>N171US</td>\n",
              "      <td>SFO</td>\n",
              "      <td>San Francisco International Airport</td>\n",
              "      <td>San Francisco</td>\n",
              "      <td>CLT</td>\n",
              "      <td>Charlotte Douglas International Airport</td>\n",
              "      <td>Charlotte</td>\n",
              "      <td>2296</td>\n",
              "      <td>00:20:00</td>\n",
              "      <td>08:06:00</td>\n",
              "      <td>16.0</td>\n",
              "      <td>-2.0</td>\n",
              "      <td>5.0</td>\n",
              "    </tr>\n",
              "    <tr>\n",
              "      <th>3</th>\n",
              "      <td>2015-01-01</td>\n",
              "      <td>4</td>\n",
              "      <td>AA</td>\n",
              "      <td>American Airlines Inc.</td>\n",
              "      <td>258</td>\n",
              "      <td>N3HYAA</td>\n",
              "      <td>LAX</td>\n",
              "      <td>Los Angeles International Airport</td>\n",
              "      <td>Los Angeles</td>\n",
              "      <td>MIA</td>\n",
              "      <td>Miami International Airport</td>\n",
              "      <td>Miami</td>\n",
              "      <td>2342</td>\n",
              "      <td>00:20:00</td>\n",
              "      <td>08:05:00</td>\n",
              "      <td>15.0</td>\n",
              "      <td>-5.0</td>\n",
              "      <td>-9.0</td>\n",
              "    </tr>\n",
              "    <tr>\n",
              "      <th>4</th>\n",
              "      <td>2015-01-01</td>\n",
              "      <td>4</td>\n",
              "      <td>AS</td>\n",
              "      <td>Alaska Airlines Inc.</td>\n",
              "      <td>135</td>\n",
              "      <td>N527AS</td>\n",
              "      <td>SEA</td>\n",
              "      <td>Seattle-Tacoma International Airport</td>\n",
              "      <td>Seattle</td>\n",
              "      <td>ANC</td>\n",
              "      <td>Ted Stevens Anchorage International Airport</td>\n",
              "      <td>Anchorage</td>\n",
              "      <td>1448</td>\n",
              "      <td>00:25:00</td>\n",
              "      <td>03:20:00</td>\n",
              "      <td>11.0</td>\n",
              "      <td>-1.0</td>\n",
              "      <td>-21.0</td>\n",
              "    </tr>\n",
              "    <tr>\n",
              "      <th>...</th>\n",
              "      <td>...</td>\n",
              "      <td>...</td>\n",
              "      <td>...</td>\n",
              "      <td>...</td>\n",
              "      <td>...</td>\n",
              "      <td>...</td>\n",
              "      <td>...</td>\n",
              "      <td>...</td>\n",
              "      <td>...</td>\n",
              "      <td>...</td>\n",
              "      <td>...</td>\n",
              "      <td>...</td>\n",
              "      <td>...</td>\n",
              "      <td>...</td>\n",
              "      <td>...</td>\n",
              "      <td>...</td>\n",
              "      <td>...</td>\n",
              "      <td>...</td>\n",
              "    </tr>\n",
              "    <tr>\n",
              "      <th>457008</th>\n",
              "      <td>2015-01-31</td>\n",
              "      <td>6</td>\n",
              "      <td>B6</td>\n",
              "      <td>JetBlue Airways</td>\n",
              "      <td>839</td>\n",
              "      <td>N658JB</td>\n",
              "      <td>JFK</td>\n",
              "      <td>John F. Kennedy International Airport (New Yor...</td>\n",
              "      <td>New York</td>\n",
              "      <td>BQN</td>\n",
              "      <td>Rafael Hernández Airport</td>\n",
              "      <td>Aguadilla</td>\n",
              "      <td>1576</td>\n",
              "      <td>23:59:00</td>\n",
              "      <td>04:40:00</td>\n",
              "      <td>18.0</td>\n",
              "      <td>0.0</td>\n",
              "      <td>-21.0</td>\n",
              "    </tr>\n",
              "    <tr>\n",
              "      <th>457009</th>\n",
              "      <td>2015-01-31</td>\n",
              "      <td>6</td>\n",
              "      <td>DL</td>\n",
              "      <td>Delta Air Lines Inc.</td>\n",
              "      <td>1887</td>\n",
              "      <td>N855NW</td>\n",
              "      <td>SEA</td>\n",
              "      <td>Seattle-Tacoma International Airport</td>\n",
              "      <td>Seattle</td>\n",
              "      <td>DTW</td>\n",
              "      <td>Detroit Metropolitan Airport</td>\n",
              "      <td>Detroit</td>\n",
              "      <td>1927</td>\n",
              "      <td>23:59:00</td>\n",
              "      <td>07:11:00</td>\n",
              "      <td>16.0</td>\n",
              "      <td>0.0</td>\n",
              "      <td>-13.0</td>\n",
              "    </tr>\n",
              "    <tr>\n",
              "      <th>457010</th>\n",
              "      <td>2015-01-31</td>\n",
              "      <td>6</td>\n",
              "      <td>F9</td>\n",
              "      <td>Frontier Airlines Inc.</td>\n",
              "      <td>300</td>\n",
              "      <td>N218FR</td>\n",
              "      <td>DEN</td>\n",
              "      <td>Denver International Airport</td>\n",
              "      <td>Denver</td>\n",
              "      <td>TPA</td>\n",
              "      <td>Tampa International Airport</td>\n",
              "      <td>Tampa</td>\n",
              "      <td>1506</td>\n",
              "      <td>23:59:00</td>\n",
              "      <td>05:11:00</td>\n",
              "      <td>35.0</td>\n",
              "      <td>3.0</td>\n",
              "      <td>23.0</td>\n",
              "    </tr>\n",
              "    <tr>\n",
              "      <th>457011</th>\n",
              "      <td>2015-01-31</td>\n",
              "      <td>6</td>\n",
              "      <td>F9</td>\n",
              "      <td>Frontier Airlines Inc.</td>\n",
              "      <td>422</td>\n",
              "      <td>N954FR</td>\n",
              "      <td>DEN</td>\n",
              "      <td>Denver International Airport</td>\n",
              "      <td>Denver</td>\n",
              "      <td>ATL</td>\n",
              "      <td>Hartsfield-Jackson Atlanta International Airport</td>\n",
              "      <td>Atlanta</td>\n",
              "      <td>1199</td>\n",
              "      <td>23:59:00</td>\n",
              "      <td>04:41:00</td>\n",
              "      <td>40.0</td>\n",
              "      <td>0.0</td>\n",
              "      <td>29.0</td>\n",
              "    </tr>\n",
              "    <tr>\n",
              "      <th>457012</th>\n",
              "      <td>2015-01-31</td>\n",
              "      <td>6</td>\n",
              "      <td>UA</td>\n",
              "      <td>United Air Lines Inc.</td>\n",
              "      <td>1104</td>\n",
              "      <td>N73251</td>\n",
              "      <td>ANC</td>\n",
              "      <td>Ted Stevens Anchorage International Airport</td>\n",
              "      <td>Anchorage</td>\n",
              "      <td>DEN</td>\n",
              "      <td>Denver International Airport</td>\n",
              "      <td>Denver</td>\n",
              "      <td>2405</td>\n",
              "      <td>23:59:00</td>\n",
              "      <td>07:08:00</td>\n",
              "      <td>23.0</td>\n",
              "      <td>-1.0</td>\n",
              "      <td>2.0</td>\n",
              "    </tr>\n",
              "  </tbody>\n",
              "</table>\n",
              "<p>456855 rows × 18 columns</p>\n",
              "</div>"
            ],
            "text/plain": [
              "             DATE  DAY AIRLINE  ... TAXI_OUT  DEPARTURE_DELAY ARRIVAL_DELAY\n",
              "0      2015-01-01    4      AS  ...     21.0            -11.0         -22.0\n",
              "1      2015-01-01    4      AA  ...     12.0             -8.0          -9.0\n",
              "2      2015-01-01    4      US  ...     16.0             -2.0           5.0\n",
              "3      2015-01-01    4      AA  ...     15.0             -5.0          -9.0\n",
              "4      2015-01-01    4      AS  ...     11.0             -1.0         -21.0\n",
              "...           ...  ...     ...  ...      ...              ...           ...\n",
              "457008 2015-01-31    6      B6  ...     18.0              0.0         -21.0\n",
              "457009 2015-01-31    6      DL  ...     16.0              0.0         -13.0\n",
              "457010 2015-01-31    6      F9  ...     35.0              3.0          23.0\n",
              "457011 2015-01-31    6      F9  ...     40.0              0.0          29.0\n",
              "457012 2015-01-31    6      UA  ...     23.0             -1.0           2.0\n",
              "\n",
              "[456855 rows x 18 columns]"
            ]
          },
          "metadata": {
            "tags": []
          },
          "execution_count": 7
        }
      ]
    },
    {
      "cell_type": "markdown",
      "metadata": {
        "id": "qeDQrSVshV5h"
      },
      "source": [
        "### **Exploratory Data Analysis**"
      ]
    },
    {
      "cell_type": "code",
      "metadata": {
        "id": "yqcNz8VYyWSl"
      },
      "source": [
        "report = sv.analyze(df)\n",
        "report.show_html(\"EDA.html\")"
      ],
      "execution_count": null,
      "outputs": []
    },
    {
      "cell_type": "markdown",
      "metadata": {
        "id": "1JRyMEL0niXF"
      },
      "source": [
        "***Statistical Information for a Group***"
      ]
    },
    {
      "cell_type": "code",
      "metadata": {
        "id": "q_10IqAanls3"
      },
      "source": [
        "def stats(g):\n",
        "  return {'mean':g.mean(), 'variance':g.var(), 'count':g.count(), 'min':g.min(), 'max':g.max()}"
      ],
      "execution_count": null,
      "outputs": []
    },
    {
      "cell_type": "markdown",
      "metadata": {
        "id": "y8diTOqjnn_G"
      },
      "source": [
        "***Air Traffic Share of Airlines***"
      ]
    },
    {
      "cell_type": "code",
      "metadata": {
        "id": "oRFfW2x5noPj"
      },
      "source": [
        "plt.subplots(figsize=(15,20))\n",
        "plt.pie(df['AIRLINE'].value_counts(),labels=df['AIRLINE_NAME'].unique(),autopct='%1.0f%%',textprops={'fontsize': 20})\n",
        "plt.show()"
      ],
      "execution_count": null,
      "outputs": []
    },
    {
      "cell_type": "markdown",
      "metadata": {
        "id": "JHyGM6tZpgGT"
      },
      "source": [
        "***Calculating Data Statistics***"
      ]
    },
    {
      "cell_type": "code",
      "metadata": {
        "id": "CDEyMXuepgSl"
      },
      "source": [
        "Origin_Stats = df['ARRIVAL_DELAY'].groupby(df['ORIGIN']).apply(stats).unstack().sort_values('count',ascending=False)\n",
        "Destination_Stats = df['ARRIVAL_DELAY'].groupby(df['DESTINATION']).apply(stats).unstack().sort_values('count',ascending=False)\n",
        "Airline_Stats = df['ARRIVAL_DELAY'].groupby(df['AIRLINE']).apply(stats).unstack().sort_values('mean')\n",
        "\n",
        "Airline_Stats"
      ],
      "execution_count": null,
      "outputs": []
    },
    {
      "cell_type": "markdown",
      "metadata": {
        "id": "Zv6AlgrEhrcX"
      },
      "source": [
        "***Airline Delays on Different Days of Week***"
      ]
    },
    {
      "cell_type": "code",
      "metadata": {
        "id": "WwHN43ce7vdj"
      },
      "source": [
        "Days = [\"Monday\", \"Tuesday\",\"Wednesday\",\"Thursday\",\"Friday\",\"Saturday\",\"Sunday\"]\n",
        "Airline_Day_Stats = pd.DataFrame()\n",
        "for a in df['AIRLINE'].unique():\n",
        "  x = df[df['AIRLINE']==a]\n",
        "  t = x['ARRIVAL_DELAY'].groupby(df['DAY']).mean()\n",
        "  Airline_Day_Stats[a]=t\n",
        "Airline_Day_Stats.dropna(inplace=True)\n",
        "Airline_Day_Stats"
      ],
      "execution_count": null,
      "outputs": []
    },
    {
      "cell_type": "code",
      "metadata": {
        "id": "SgJ4sb5FqYp9"
      },
      "source": [
        "sns.set(context=\"paper\")\n",
        "plt.subplots(figsize=(10,8))\n",
        "plt.title(\"Mean Delay for Airline Vs. Day of Week\")\n",
        "sns.heatmap(Airline_Day_Stats, linewidths=0.01, cmap=LinearSegmentedColormap.from_list('rg',[\"g\", \"w\", \"r\"], N=256),robust=True,yticklabels=Days)\n",
        "plt.show()"
      ],
      "execution_count": null,
      "outputs": []
    },
    {
      "cell_type": "markdown",
      "metadata": {
        "id": "HrzdQr6nLk2Y"
      },
      "source": [
        "***Busiest airports and Airlines***"
      ]
    },
    {
      "cell_type": "code",
      "metadata": {
        "id": "wfXBSiGE91DP"
      },
      "source": [
        "Airports = df['DESTINATION_CITY'].groupby(df[\"DESTINATION_CITY\"]).count().sort_values(ascending=False).iloc[:11].keys().tolist()\n",
        "map = df[['AIRLINE_NAME','DESTINATION_CITY','ARRIVAL_DELAY']]\n",
        "\n",
        "frames = list()\n",
        "for x in Airports:\n",
        "  frames.append(map.loc[map[\"DESTINATION_CITY\"] == x])\n",
        "map = pd.concat(frames)\n",
        "\n",
        "airline_city_delay = pd.DataFrame()\n",
        "for airlines in map[\"AIRLINE_NAME\"].unique():\n",
        "  t = map.loc[map[\"AIRLINE_NAME\"] == airlines]\n",
        "  temp = t[\"ARRIVAL_DELAY\"].groupby(t[\"DESTINATION_CITY\"]).mean()\n",
        "  airline_city_delay[airlines] = temp\n"
      ],
      "execution_count": null,
      "outputs": []
    },
    {
      "cell_type": "code",
      "metadata": {
        "id": "qVtsOVJxerA1"
      },
      "source": [
        "sns.set(context=\"paper\")\n",
        "plt.subplots(figsize=(10,8))\n",
        "plt.title(\"Mean Delay for Airline Vs. Destination Airports\")\n",
        "sns.heatmap(airline_city_delay, linewidths=0.01, cmap=LinearSegmentedColormap.from_list('rg',[\"g\", \"w\", \"r\"], N=256),robust=True,yticklabels=Airports)\n",
        "plt.show()"
      ],
      "execution_count": null,
      "outputs": []
    },
    {
      "cell_type": "markdown",
      "metadata": {
        "id": "a2BGBBDKpIAV"
      },
      "source": [
        "**Distance and Delay**"
      ]
    },
    {
      "cell_type": "code",
      "metadata": {
        "id": "jn1crDR9mhmr"
      },
      "source": [
        "map = df[[\"DISTANCE\",\"ARRIVAL_DELAY\",\"AIRLINE_NAME\"]].copy()\n",
        "interval = list()\n",
        "for i in range(0,5000,100):\n",
        "  interval.append(i)\n",
        "\n",
        "map[\"DISTANCE_INTERVAL\"] = pd.cut(x = map[\"DISTANCE\"], bins = interval)\n",
        "map[\"DISTANCE_MID\"] = map[\"DISTANCE_INTERVAL\"].apply(lambda x : x.mid)\n",
        "newMap = map[\"ARRIVAL_DELAY\"].groupby(map[\"DISTANCE_MID\"]).mean().to_frame()\n",
        "newMap.dropna(inplace=True)\n",
        "newMap.plot.line(title = \"Distance vs Delay graph (Bucket Size:100)\")\n",
        "plt.show()"
      ],
      "execution_count": null,
      "outputs": []
    },
    {
      "cell_type": "markdown",
      "metadata": {
        "id": "16fKMqzra8VQ"
      },
      "source": [
        "***Distribution of Arrival Delay***"
      ]
    },
    {
      "cell_type": "code",
      "metadata": {
        "id": "k2NgDYYmbBbP"
      },
      "source": [
        "sns.displot(df['ARRIVAL_DELAY'], bins = [i for i in range(-50,100)])\n",
        "plt.show()"
      ],
      "execution_count": null,
      "outputs": []
    },
    {
      "cell_type": "markdown",
      "metadata": {
        "id": "_D0yMjhIWlLc"
      },
      "source": [
        "### **Pre-Processing**"
      ]
    },
    {
      "cell_type": "markdown",
      "metadata": {
        "id": "y6F29UfK71ja"
      },
      "source": [
        "***Selecting Features***"
      ]
    },
    {
      "cell_type": "code",
      "metadata": {
        "id": "jdb5gIxH71Ts"
      },
      "source": [
        "Data = df[['ARRIVAL_DELAY','ORIGIN','DESTINATION','DISTANCE','TAXI_OUT','DEPARTURE_DELAY','DATE','DAY','AIRLINE','SCHEDULED_DEPARTURE','SCHEDULED_ARRIVAL']].copy()\n"
      ],
      "execution_count": null,
      "outputs": []
    },
    {
      "cell_type": "markdown",
      "metadata": {
        "id": "_uOllXGf5CIk"
      },
      "source": [
        "***Handling Date and Time Data***"
      ]
    },
    {
      "cell_type": "code",
      "metadata": {
        "colab": {
          "base_uri": "https://localhost:8080/",
          "height": 677
        },
        "id": "1_CpImJh5GCi",
        "outputId": "f1159cc8-de31-419a-a1ab-e022c8b584fe"
      },
      "source": [
        "SD = Data['SCHEDULED_DEPARTURE']\n",
        "SA = Data['SCHEDULED_ARRIVAL']\n",
        "DA = Data['DATE']\n",
        "\n",
        "Data['SDH_Sin'] = [sin(2*pi*d.hour/24) for d in SD]\n",
        "Data['SDH_Cos'] = [cos(2*pi*d.hour/24) for d in SD]\n",
        "Data['SDM_Sin'] = [sin(2*pi*d.minute/60) for d in SD]\n",
        "Data['SDM_Cos'] = [cos(2*pi*d.minute/60) for d in SD]\n",
        "\n",
        "Data['SAH_Sin'] = [sin(2*pi*d.hour/24) for d in SA]\n",
        "Data['SAH_Cos'] = [cos(2*pi*d.hour/24) for d in SA]\n",
        "Data['SAM_Sin'] = [sin(2*pi*d.minute/60) for d in SA]\n",
        "Data['SAM_Cos'] = [cos(2*pi*d.minute/60) for d in SA]\n",
        "\n",
        "Data['DAM_Sin'] = [sin(2*pi*d.month/12) for d in DA]\n",
        "Data['DAM_Cos'] = [cos(2*pi*d.month/12) for d in DA]\n",
        "Data['DAD_Sin'] = [sin(2*pi*d.day/31) for d in DA]\n",
        "Data['DAD_Cos'] = [cos(2*pi*d.day/31) for d in DA]\n",
        "\n",
        "Data = Data.drop(['SCHEDULED_DEPARTURE','SCHEDULED_ARRIVAL','DATE'],axis=1)\n",
        "Data.dropna(inplace=True)\n",
        "Data.reset_index(inplace=True,drop=True)\n",
        "Data"
      ],
      "execution_count": null,
      "outputs": [
        {
          "output_type": "execute_result",
          "data": {
            "text/html": [
              "<div>\n",
              "<style scoped>\n",
              "    .dataframe tbody tr th:only-of-type {\n",
              "        vertical-align: middle;\n",
              "    }\n",
              "\n",
              "    .dataframe tbody tr th {\n",
              "        vertical-align: top;\n",
              "    }\n",
              "\n",
              "    .dataframe thead th {\n",
              "        text-align: right;\n",
              "    }\n",
              "</style>\n",
              "<table border=\"1\" class=\"dataframe\">\n",
              "  <thead>\n",
              "    <tr style=\"text-align: right;\">\n",
              "      <th></th>\n",
              "      <th>ARRIVAL_DELAY</th>\n",
              "      <th>ORIGIN</th>\n",
              "      <th>DESTINATION</th>\n",
              "      <th>DISTANCE</th>\n",
              "      <th>TAXI_OUT</th>\n",
              "      <th>DEPARTURE_DELAY</th>\n",
              "      <th>DAY</th>\n",
              "      <th>AIRLINE</th>\n",
              "      <th>SDH_Sin</th>\n",
              "      <th>SDH_Cos</th>\n",
              "      <th>SDM_Sin</th>\n",
              "      <th>SDM_Cos</th>\n",
              "      <th>SAH_Sin</th>\n",
              "      <th>SAH_Cos</th>\n",
              "      <th>SAM_Sin</th>\n",
              "      <th>SAM_Cos</th>\n",
              "      <th>DAM_Sin</th>\n",
              "      <th>DAM_Cos</th>\n",
              "      <th>DAD_Sin</th>\n",
              "      <th>DAD_Cos</th>\n",
              "    </tr>\n",
              "  </thead>\n",
              "  <tbody>\n",
              "    <tr>\n",
              "      <th>0</th>\n",
              "      <td>-22.0</td>\n",
              "      <td>ANC</td>\n",
              "      <td>SEA</td>\n",
              "      <td>1448</td>\n",
              "      <td>21.0</td>\n",
              "      <td>-11.0</td>\n",
              "      <td>4</td>\n",
              "      <td>AS</td>\n",
              "      <td>0.000000</td>\n",
              "      <td>1.000000</td>\n",
              "      <td>0.500000</td>\n",
              "      <td>0.866025</td>\n",
              "      <td>0.866025</td>\n",
              "      <td>0.500000</td>\n",
              "      <td>5.665539e-16</td>\n",
              "      <td>-1.000000</td>\n",
              "      <td>0.5</td>\n",
              "      <td>0.866025</td>\n",
              "      <td>2.012985e-01</td>\n",
              "      <td>0.97953</td>\n",
              "    </tr>\n",
              "    <tr>\n",
              "      <th>1</th>\n",
              "      <td>-9.0</td>\n",
              "      <td>LAX</td>\n",
              "      <td>PBI</td>\n",
              "      <td>2330</td>\n",
              "      <td>12.0</td>\n",
              "      <td>-8.0</td>\n",
              "      <td>4</td>\n",
              "      <td>AA</td>\n",
              "      <td>0.000000</td>\n",
              "      <td>1.000000</td>\n",
              "      <td>0.866025</td>\n",
              "      <td>0.500000</td>\n",
              "      <td>0.965926</td>\n",
              "      <td>-0.258819</td>\n",
              "      <td>-8.660254e-01</td>\n",
              "      <td>0.500000</td>\n",
              "      <td>0.5</td>\n",
              "      <td>0.866025</td>\n",
              "      <td>2.012985e-01</td>\n",
              "      <td>0.97953</td>\n",
              "    </tr>\n",
              "    <tr>\n",
              "      <th>2</th>\n",
              "      <td>5.0</td>\n",
              "      <td>SFO</td>\n",
              "      <td>CLT</td>\n",
              "      <td>2296</td>\n",
              "      <td>16.0</td>\n",
              "      <td>-2.0</td>\n",
              "      <td>4</td>\n",
              "      <td>US</td>\n",
              "      <td>0.000000</td>\n",
              "      <td>1.000000</td>\n",
              "      <td>0.866025</td>\n",
              "      <td>-0.500000</td>\n",
              "      <td>0.866025</td>\n",
              "      <td>-0.500000</td>\n",
              "      <td>5.877853e-01</td>\n",
              "      <td>0.809017</td>\n",
              "      <td>0.5</td>\n",
              "      <td>0.866025</td>\n",
              "      <td>2.012985e-01</td>\n",
              "      <td>0.97953</td>\n",
              "    </tr>\n",
              "    <tr>\n",
              "      <th>3</th>\n",
              "      <td>-9.0</td>\n",
              "      <td>LAX</td>\n",
              "      <td>MIA</td>\n",
              "      <td>2342</td>\n",
              "      <td>15.0</td>\n",
              "      <td>-5.0</td>\n",
              "      <td>4</td>\n",
              "      <td>AA</td>\n",
              "      <td>0.000000</td>\n",
              "      <td>1.000000</td>\n",
              "      <td>0.866025</td>\n",
              "      <td>-0.500000</td>\n",
              "      <td>0.866025</td>\n",
              "      <td>-0.500000</td>\n",
              "      <td>5.000000e-01</td>\n",
              "      <td>0.866025</td>\n",
              "      <td>0.5</td>\n",
              "      <td>0.866025</td>\n",
              "      <td>2.012985e-01</td>\n",
              "      <td>0.97953</td>\n",
              "    </tr>\n",
              "    <tr>\n",
              "      <th>4</th>\n",
              "      <td>-21.0</td>\n",
              "      <td>SEA</td>\n",
              "      <td>ANC</td>\n",
              "      <td>1448</td>\n",
              "      <td>11.0</td>\n",
              "      <td>-1.0</td>\n",
              "      <td>4</td>\n",
              "      <td>AS</td>\n",
              "      <td>0.000000</td>\n",
              "      <td>1.000000</td>\n",
              "      <td>0.500000</td>\n",
              "      <td>-0.866025</td>\n",
              "      <td>0.707107</td>\n",
              "      <td>0.707107</td>\n",
              "      <td>8.660254e-01</td>\n",
              "      <td>-0.500000</td>\n",
              "      <td>0.5</td>\n",
              "      <td>0.866025</td>\n",
              "      <td>2.012985e-01</td>\n",
              "      <td>0.97953</td>\n",
              "    </tr>\n",
              "    <tr>\n",
              "      <th>...</th>\n",
              "      <td>...</td>\n",
              "      <td>...</td>\n",
              "      <td>...</td>\n",
              "      <td>...</td>\n",
              "      <td>...</td>\n",
              "      <td>...</td>\n",
              "      <td>...</td>\n",
              "      <td>...</td>\n",
              "      <td>...</td>\n",
              "      <td>...</td>\n",
              "      <td>...</td>\n",
              "      <td>...</td>\n",
              "      <td>...</td>\n",
              "      <td>...</td>\n",
              "      <td>...</td>\n",
              "      <td>...</td>\n",
              "      <td>...</td>\n",
              "      <td>...</td>\n",
              "      <td>...</td>\n",
              "      <td>...</td>\n",
              "    </tr>\n",
              "    <tr>\n",
              "      <th>456850</th>\n",
              "      <td>-21.0</td>\n",
              "      <td>JFK</td>\n",
              "      <td>BQN</td>\n",
              "      <td>1576</td>\n",
              "      <td>18.0</td>\n",
              "      <td>0.0</td>\n",
              "      <td>6</td>\n",
              "      <td>B6</td>\n",
              "      <td>-0.258819</td>\n",
              "      <td>0.965926</td>\n",
              "      <td>-0.104528</td>\n",
              "      <td>0.994522</td>\n",
              "      <td>0.866025</td>\n",
              "      <td>0.500000</td>\n",
              "      <td>-8.660254e-01</td>\n",
              "      <td>-0.500000</td>\n",
              "      <td>0.5</td>\n",
              "      <td>0.866025</td>\n",
              "      <td>-2.449294e-16</td>\n",
              "      <td>1.00000</td>\n",
              "    </tr>\n",
              "    <tr>\n",
              "      <th>456851</th>\n",
              "      <td>-13.0</td>\n",
              "      <td>SEA</td>\n",
              "      <td>DTW</td>\n",
              "      <td>1927</td>\n",
              "      <td>16.0</td>\n",
              "      <td>0.0</td>\n",
              "      <td>6</td>\n",
              "      <td>DL</td>\n",
              "      <td>-0.258819</td>\n",
              "      <td>0.965926</td>\n",
              "      <td>-0.104528</td>\n",
              "      <td>0.994522</td>\n",
              "      <td>0.965926</td>\n",
              "      <td>-0.258819</td>\n",
              "      <td>9.135455e-01</td>\n",
              "      <td>0.406737</td>\n",
              "      <td>0.5</td>\n",
              "      <td>0.866025</td>\n",
              "      <td>-2.449294e-16</td>\n",
              "      <td>1.00000</td>\n",
              "    </tr>\n",
              "    <tr>\n",
              "      <th>456852</th>\n",
              "      <td>23.0</td>\n",
              "      <td>DEN</td>\n",
              "      <td>TPA</td>\n",
              "      <td>1506</td>\n",
              "      <td>35.0</td>\n",
              "      <td>3.0</td>\n",
              "      <td>6</td>\n",
              "      <td>F9</td>\n",
              "      <td>-0.258819</td>\n",
              "      <td>0.965926</td>\n",
              "      <td>-0.104528</td>\n",
              "      <td>0.994522</td>\n",
              "      <td>0.965926</td>\n",
              "      <td>0.258819</td>\n",
              "      <td>9.135455e-01</td>\n",
              "      <td>0.406737</td>\n",
              "      <td>0.5</td>\n",
              "      <td>0.866025</td>\n",
              "      <td>-2.449294e-16</td>\n",
              "      <td>1.00000</td>\n",
              "    </tr>\n",
              "    <tr>\n",
              "      <th>456853</th>\n",
              "      <td>29.0</td>\n",
              "      <td>DEN</td>\n",
              "      <td>ATL</td>\n",
              "      <td>1199</td>\n",
              "      <td>40.0</td>\n",
              "      <td>0.0</td>\n",
              "      <td>6</td>\n",
              "      <td>F9</td>\n",
              "      <td>-0.258819</td>\n",
              "      <td>0.965926</td>\n",
              "      <td>-0.104528</td>\n",
              "      <td>0.994522</td>\n",
              "      <td>0.866025</td>\n",
              "      <td>0.500000</td>\n",
              "      <td>-9.135455e-01</td>\n",
              "      <td>-0.406737</td>\n",
              "      <td>0.5</td>\n",
              "      <td>0.866025</td>\n",
              "      <td>-2.449294e-16</td>\n",
              "      <td>1.00000</td>\n",
              "    </tr>\n",
              "    <tr>\n",
              "      <th>456854</th>\n",
              "      <td>2.0</td>\n",
              "      <td>ANC</td>\n",
              "      <td>DEN</td>\n",
              "      <td>2405</td>\n",
              "      <td>23.0</td>\n",
              "      <td>-1.0</td>\n",
              "      <td>6</td>\n",
              "      <td>UA</td>\n",
              "      <td>-0.258819</td>\n",
              "      <td>0.965926</td>\n",
              "      <td>-0.104528</td>\n",
              "      <td>0.994522</td>\n",
              "      <td>0.965926</td>\n",
              "      <td>-0.258819</td>\n",
              "      <td>7.431448e-01</td>\n",
              "      <td>0.669131</td>\n",
              "      <td>0.5</td>\n",
              "      <td>0.866025</td>\n",
              "      <td>-2.449294e-16</td>\n",
              "      <td>1.00000</td>\n",
              "    </tr>\n",
              "  </tbody>\n",
              "</table>\n",
              "<p>456855 rows × 20 columns</p>\n",
              "</div>"
            ],
            "text/plain": [
              "        ARRIVAL_DELAY ORIGIN DESTINATION  ...   DAM_Cos       DAD_Sin  DAD_Cos\n",
              "0               -22.0    ANC         SEA  ...  0.866025  2.012985e-01  0.97953\n",
              "1                -9.0    LAX         PBI  ...  0.866025  2.012985e-01  0.97953\n",
              "2                 5.0    SFO         CLT  ...  0.866025  2.012985e-01  0.97953\n",
              "3                -9.0    LAX         MIA  ...  0.866025  2.012985e-01  0.97953\n",
              "4               -21.0    SEA         ANC  ...  0.866025  2.012985e-01  0.97953\n",
              "...               ...    ...         ...  ...       ...           ...      ...\n",
              "456850          -21.0    JFK         BQN  ...  0.866025 -2.449294e-16  1.00000\n",
              "456851          -13.0    SEA         DTW  ...  0.866025 -2.449294e-16  1.00000\n",
              "456852           23.0    DEN         TPA  ...  0.866025 -2.449294e-16  1.00000\n",
              "456853           29.0    DEN         ATL  ...  0.866025 -2.449294e-16  1.00000\n",
              "456854            2.0    ANC         DEN  ...  0.866025 -2.449294e-16  1.00000\n",
              "\n",
              "[456855 rows x 20 columns]"
            ]
          },
          "metadata": {
            "tags": []
          },
          "execution_count": 9
        }
      ]
    },
    {
      "cell_type": "markdown",
      "metadata": {
        "id": "NFkgp1Cg47tf"
      },
      "source": [
        "***Handling Categorical Variables***"
      ]
    },
    {
      "cell_type": "code",
      "metadata": {
        "colab": {
          "base_uri": "https://localhost:8080/",
          "height": 711
        },
        "id": "o6IH8Pb3W2Vw",
        "outputId": "5473ced2-ebd9-4b42-ecb2-0391b61836cc"
      },
      "source": [
        "\n",
        "L = LabelEncoder()\n",
        "\n",
        "Data['AIRLINE']=L.fit_transform(np.array(Data['AIRLINE']).reshape(-1,1))\n",
        "Data['ORIGIN']=L.fit_transform(np.array(Data['ORIGIN']).reshape(-1,1))\n",
        "Data['DESTINATION']=L.fit_transform(np.array(Data['DESTINATION']).reshape(-1,1))\n",
        "\n",
        "H = OneHotEncoder()\n",
        "\n",
        "a = pd.DataFrame(H.fit_transform(np.array(Data['AIRLINE']).reshape(-1,1)).toarray())\n",
        "a.columns = [str(i) for i in range(len(a.columns))]\n",
        "b = pd.DataFrame(H.fit_transform(np.array(Data['ORIGIN']).reshape(-1,1)).toarray())\n",
        "b.columns = [str(i+len(a.columns)) for i in range(len(b.columns))]\n",
        "c = pd.DataFrame(H.fit_transform(np.array(Data['DESTINATION']).reshape(-1,1)).toarray())\n",
        "c.columns = [str(i+len(a.columns)+len(b.columns)) for i in range(len(c.columns))]\n",
        "\n",
        "Data = Data.drop(['AIRLINE'],axis=1)\n",
        "Data = Data.join(a)\n",
        "#Data = Data.drop(['ORIGIN'],axis=1)\n",
        "#Data = Data.join(b)\n",
        "#Data = Data.drop(['DESTINATION'],axis=1)\n",
        "#Data = Data.join(c)\n",
        "Data.dropna(inplace=True)\n",
        "Data"
      ],
      "execution_count": null,
      "outputs": [
        {
          "output_type": "stream",
          "text": [
            "/usr/local/lib/python3.6/dist-packages/sklearn/preprocessing/_label.py:251: DataConversionWarning: A column-vector y was passed when a 1d array was expected. Please change the shape of y to (n_samples, ), for example using ravel().\n",
            "  y = column_or_1d(y, warn=True)\n"
          ],
          "name": "stderr"
        },
        {
          "output_type": "execute_result",
          "data": {
            "text/html": [
              "<div>\n",
              "<style scoped>\n",
              "    .dataframe tbody tr th:only-of-type {\n",
              "        vertical-align: middle;\n",
              "    }\n",
              "\n",
              "    .dataframe tbody tr th {\n",
              "        vertical-align: top;\n",
              "    }\n",
              "\n",
              "    .dataframe thead th {\n",
              "        text-align: right;\n",
              "    }\n",
              "</style>\n",
              "<table border=\"1\" class=\"dataframe\">\n",
              "  <thead>\n",
              "    <tr style=\"text-align: right;\">\n",
              "      <th></th>\n",
              "      <th>ARRIVAL_DELAY</th>\n",
              "      <th>ORIGIN</th>\n",
              "      <th>DESTINATION</th>\n",
              "      <th>DISTANCE</th>\n",
              "      <th>TAXI_OUT</th>\n",
              "      <th>DEPARTURE_DELAY</th>\n",
              "      <th>DAY</th>\n",
              "      <th>SDH_Sin</th>\n",
              "      <th>SDH_Cos</th>\n",
              "      <th>SDM_Sin</th>\n",
              "      <th>SDM_Cos</th>\n",
              "      <th>SAH_Sin</th>\n",
              "      <th>SAH_Cos</th>\n",
              "      <th>SAM_Sin</th>\n",
              "      <th>SAM_Cos</th>\n",
              "      <th>DAM_Sin</th>\n",
              "      <th>DAM_Cos</th>\n",
              "      <th>DAD_Sin</th>\n",
              "      <th>DAD_Cos</th>\n",
              "      <th>0</th>\n",
              "      <th>1</th>\n",
              "      <th>2</th>\n",
              "      <th>3</th>\n",
              "      <th>4</th>\n",
              "      <th>5</th>\n",
              "      <th>6</th>\n",
              "      <th>7</th>\n",
              "      <th>8</th>\n",
              "      <th>9</th>\n",
              "      <th>10</th>\n",
              "      <th>11</th>\n",
              "      <th>12</th>\n",
              "      <th>13</th>\n",
              "    </tr>\n",
              "  </thead>\n",
              "  <tbody>\n",
              "    <tr>\n",
              "      <th>0</th>\n",
              "      <td>-22.0</td>\n",
              "      <td>15</td>\n",
              "      <td>268</td>\n",
              "      <td>1448</td>\n",
              "      <td>21.0</td>\n",
              "      <td>-11.0</td>\n",
              "      <td>4</td>\n",
              "      <td>0.000000</td>\n",
              "      <td>1.000000</td>\n",
              "      <td>0.500000</td>\n",
              "      <td>0.866025</td>\n",
              "      <td>0.866025</td>\n",
              "      <td>0.500000</td>\n",
              "      <td>5.665539e-16</td>\n",
              "      <td>-1.000000</td>\n",
              "      <td>0.5</td>\n",
              "      <td>0.866025</td>\n",
              "      <td>2.012985e-01</td>\n",
              "      <td>0.97953</td>\n",
              "      <td>0.0</td>\n",
              "      <td>1.0</td>\n",
              "      <td>0.0</td>\n",
              "      <td>0.0</td>\n",
              "      <td>0.0</td>\n",
              "      <td>0.0</td>\n",
              "      <td>0.0</td>\n",
              "      <td>0.0</td>\n",
              "      <td>0.0</td>\n",
              "      <td>0.0</td>\n",
              "      <td>0.0</td>\n",
              "      <td>0.0</td>\n",
              "      <td>0.0</td>\n",
              "      <td>0.0</td>\n",
              "    </tr>\n",
              "    <tr>\n",
              "      <th>1</th>\n",
              "      <td>-9.0</td>\n",
              "      <td>168</td>\n",
              "      <td>226</td>\n",
              "      <td>2330</td>\n",
              "      <td>12.0</td>\n",
              "      <td>-8.0</td>\n",
              "      <td>4</td>\n",
              "      <td>0.000000</td>\n",
              "      <td>1.000000</td>\n",
              "      <td>0.866025</td>\n",
              "      <td>0.500000</td>\n",
              "      <td>0.965926</td>\n",
              "      <td>-0.258819</td>\n",
              "      <td>-8.660254e-01</td>\n",
              "      <td>0.500000</td>\n",
              "      <td>0.5</td>\n",
              "      <td>0.866025</td>\n",
              "      <td>2.012985e-01</td>\n",
              "      <td>0.97953</td>\n",
              "      <td>1.0</td>\n",
              "      <td>0.0</td>\n",
              "      <td>0.0</td>\n",
              "      <td>0.0</td>\n",
              "      <td>0.0</td>\n",
              "      <td>0.0</td>\n",
              "      <td>0.0</td>\n",
              "      <td>0.0</td>\n",
              "      <td>0.0</td>\n",
              "      <td>0.0</td>\n",
              "      <td>0.0</td>\n",
              "      <td>0.0</td>\n",
              "      <td>0.0</td>\n",
              "      <td>0.0</td>\n",
              "    </tr>\n",
              "    <tr>\n",
              "      <th>2</th>\n",
              "      <td>5.0</td>\n",
              "      <td>269</td>\n",
              "      <td>62</td>\n",
              "      <td>2296</td>\n",
              "      <td>16.0</td>\n",
              "      <td>-2.0</td>\n",
              "      <td>4</td>\n",
              "      <td>0.000000</td>\n",
              "      <td>1.000000</td>\n",
              "      <td>0.866025</td>\n",
              "      <td>-0.500000</td>\n",
              "      <td>0.866025</td>\n",
              "      <td>-0.500000</td>\n",
              "      <td>5.877853e-01</td>\n",
              "      <td>0.809017</td>\n",
              "      <td>0.5</td>\n",
              "      <td>0.866025</td>\n",
              "      <td>2.012985e-01</td>\n",
              "      <td>0.97953</td>\n",
              "      <td>0.0</td>\n",
              "      <td>0.0</td>\n",
              "      <td>0.0</td>\n",
              "      <td>0.0</td>\n",
              "      <td>0.0</td>\n",
              "      <td>0.0</td>\n",
              "      <td>0.0</td>\n",
              "      <td>0.0</td>\n",
              "      <td>0.0</td>\n",
              "      <td>0.0</td>\n",
              "      <td>0.0</td>\n",
              "      <td>1.0</td>\n",
              "      <td>0.0</td>\n",
              "      <td>0.0</td>\n",
              "    </tr>\n",
              "    <tr>\n",
              "      <th>3</th>\n",
              "      <td>-9.0</td>\n",
              "      <td>168</td>\n",
              "      <td>195</td>\n",
              "      <td>2342</td>\n",
              "      <td>15.0</td>\n",
              "      <td>-5.0</td>\n",
              "      <td>4</td>\n",
              "      <td>0.000000</td>\n",
              "      <td>1.000000</td>\n",
              "      <td>0.866025</td>\n",
              "      <td>-0.500000</td>\n",
              "      <td>0.866025</td>\n",
              "      <td>-0.500000</td>\n",
              "      <td>5.000000e-01</td>\n",
              "      <td>0.866025</td>\n",
              "      <td>0.5</td>\n",
              "      <td>0.866025</td>\n",
              "      <td>2.012985e-01</td>\n",
              "      <td>0.97953</td>\n",
              "      <td>1.0</td>\n",
              "      <td>0.0</td>\n",
              "      <td>0.0</td>\n",
              "      <td>0.0</td>\n",
              "      <td>0.0</td>\n",
              "      <td>0.0</td>\n",
              "      <td>0.0</td>\n",
              "      <td>0.0</td>\n",
              "      <td>0.0</td>\n",
              "      <td>0.0</td>\n",
              "      <td>0.0</td>\n",
              "      <td>0.0</td>\n",
              "      <td>0.0</td>\n",
              "      <td>0.0</td>\n",
              "    </tr>\n",
              "    <tr>\n",
              "      <th>4</th>\n",
              "      <td>-21.0</td>\n",
              "      <td>268</td>\n",
              "      <td>15</td>\n",
              "      <td>1448</td>\n",
              "      <td>11.0</td>\n",
              "      <td>-1.0</td>\n",
              "      <td>4</td>\n",
              "      <td>0.000000</td>\n",
              "      <td>1.000000</td>\n",
              "      <td>0.500000</td>\n",
              "      <td>-0.866025</td>\n",
              "      <td>0.707107</td>\n",
              "      <td>0.707107</td>\n",
              "      <td>8.660254e-01</td>\n",
              "      <td>-0.500000</td>\n",
              "      <td>0.5</td>\n",
              "      <td>0.866025</td>\n",
              "      <td>2.012985e-01</td>\n",
              "      <td>0.97953</td>\n",
              "      <td>0.0</td>\n",
              "      <td>1.0</td>\n",
              "      <td>0.0</td>\n",
              "      <td>0.0</td>\n",
              "      <td>0.0</td>\n",
              "      <td>0.0</td>\n",
              "      <td>0.0</td>\n",
              "      <td>0.0</td>\n",
              "      <td>0.0</td>\n",
              "      <td>0.0</td>\n",
              "      <td>0.0</td>\n",
              "      <td>0.0</td>\n",
              "      <td>0.0</td>\n",
              "      <td>0.0</td>\n",
              "    </tr>\n",
              "    <tr>\n",
              "      <th>...</th>\n",
              "      <td>...</td>\n",
              "      <td>...</td>\n",
              "      <td>...</td>\n",
              "      <td>...</td>\n",
              "      <td>...</td>\n",
              "      <td>...</td>\n",
              "      <td>...</td>\n",
              "      <td>...</td>\n",
              "      <td>...</td>\n",
              "      <td>...</td>\n",
              "      <td>...</td>\n",
              "      <td>...</td>\n",
              "      <td>...</td>\n",
              "      <td>...</td>\n",
              "      <td>...</td>\n",
              "      <td>...</td>\n",
              "      <td>...</td>\n",
              "      <td>...</td>\n",
              "      <td>...</td>\n",
              "      <td>...</td>\n",
              "      <td>...</td>\n",
              "      <td>...</td>\n",
              "      <td>...</td>\n",
              "      <td>...</td>\n",
              "      <td>...</td>\n",
              "      <td>...</td>\n",
              "      <td>...</td>\n",
              "      <td>...</td>\n",
              "      <td>...</td>\n",
              "      <td>...</td>\n",
              "      <td>...</td>\n",
              "      <td>...</td>\n",
              "      <td>...</td>\n",
              "    </tr>\n",
              "    <tr>\n",
              "      <th>456850</th>\n",
              "      <td>-21.0</td>\n",
              "      <td>158</td>\n",
              "      <td>38</td>\n",
              "      <td>1576</td>\n",
              "      <td>18.0</td>\n",
              "      <td>0.0</td>\n",
              "      <td>6</td>\n",
              "      <td>-0.258819</td>\n",
              "      <td>0.965926</td>\n",
              "      <td>-0.104528</td>\n",
              "      <td>0.994522</td>\n",
              "      <td>0.866025</td>\n",
              "      <td>0.500000</td>\n",
              "      <td>-8.660254e-01</td>\n",
              "      <td>-0.500000</td>\n",
              "      <td>0.5</td>\n",
              "      <td>0.866025</td>\n",
              "      <td>-2.449294e-16</td>\n",
              "      <td>1.00000</td>\n",
              "      <td>0.0</td>\n",
              "      <td>0.0</td>\n",
              "      <td>1.0</td>\n",
              "      <td>0.0</td>\n",
              "      <td>0.0</td>\n",
              "      <td>0.0</td>\n",
              "      <td>0.0</td>\n",
              "      <td>0.0</td>\n",
              "      <td>0.0</td>\n",
              "      <td>0.0</td>\n",
              "      <td>0.0</td>\n",
              "      <td>0.0</td>\n",
              "      <td>0.0</td>\n",
              "      <td>0.0</td>\n",
              "    </tr>\n",
              "    <tr>\n",
              "      <th>456851</th>\n",
              "      <td>-13.0</td>\n",
              "      <td>268</td>\n",
              "      <td>88</td>\n",
              "      <td>1927</td>\n",
              "      <td>16.0</td>\n",
              "      <td>0.0</td>\n",
              "      <td>6</td>\n",
              "      <td>-0.258819</td>\n",
              "      <td>0.965926</td>\n",
              "      <td>-0.104528</td>\n",
              "      <td>0.994522</td>\n",
              "      <td>0.965926</td>\n",
              "      <td>-0.258819</td>\n",
              "      <td>9.135455e-01</td>\n",
              "      <td>0.406737</td>\n",
              "      <td>0.5</td>\n",
              "      <td>0.866025</td>\n",
              "      <td>-2.449294e-16</td>\n",
              "      <td>1.00000</td>\n",
              "      <td>0.0</td>\n",
              "      <td>0.0</td>\n",
              "      <td>0.0</td>\n",
              "      <td>1.0</td>\n",
              "      <td>0.0</td>\n",
              "      <td>0.0</td>\n",
              "      <td>0.0</td>\n",
              "      <td>0.0</td>\n",
              "      <td>0.0</td>\n",
              "      <td>0.0</td>\n",
              "      <td>0.0</td>\n",
              "      <td>0.0</td>\n",
              "      <td>0.0</td>\n",
              "      <td>0.0</td>\n",
              "    </tr>\n",
              "    <tr>\n",
              "      <th>456852</th>\n",
              "      <td>23.0</td>\n",
              "      <td>81</td>\n",
              "      <td>294</td>\n",
              "      <td>1506</td>\n",
              "      <td>35.0</td>\n",
              "      <td>3.0</td>\n",
              "      <td>6</td>\n",
              "      <td>-0.258819</td>\n",
              "      <td>0.965926</td>\n",
              "      <td>-0.104528</td>\n",
              "      <td>0.994522</td>\n",
              "      <td>0.965926</td>\n",
              "      <td>0.258819</td>\n",
              "      <td>9.135455e-01</td>\n",
              "      <td>0.406737</td>\n",
              "      <td>0.5</td>\n",
              "      <td>0.866025</td>\n",
              "      <td>-2.449294e-16</td>\n",
              "      <td>1.00000</td>\n",
              "      <td>0.0</td>\n",
              "      <td>0.0</td>\n",
              "      <td>0.0</td>\n",
              "      <td>0.0</td>\n",
              "      <td>0.0</td>\n",
              "      <td>1.0</td>\n",
              "      <td>0.0</td>\n",
              "      <td>0.0</td>\n",
              "      <td>0.0</td>\n",
              "      <td>0.0</td>\n",
              "      <td>0.0</td>\n",
              "      <td>0.0</td>\n",
              "      <td>0.0</td>\n",
              "      <td>0.0</td>\n",
              "    </tr>\n",
              "    <tr>\n",
              "      <th>456853</th>\n",
              "      <td>29.0</td>\n",
              "      <td>81</td>\n",
              "      <td>18</td>\n",
              "      <td>1199</td>\n",
              "      <td>40.0</td>\n",
              "      <td>0.0</td>\n",
              "      <td>6</td>\n",
              "      <td>-0.258819</td>\n",
              "      <td>0.965926</td>\n",
              "      <td>-0.104528</td>\n",
              "      <td>0.994522</td>\n",
              "      <td>0.866025</td>\n",
              "      <td>0.500000</td>\n",
              "      <td>-9.135455e-01</td>\n",
              "      <td>-0.406737</td>\n",
              "      <td>0.5</td>\n",
              "      <td>0.866025</td>\n",
              "      <td>-2.449294e-16</td>\n",
              "      <td>1.00000</td>\n",
              "      <td>0.0</td>\n",
              "      <td>0.0</td>\n",
              "      <td>0.0</td>\n",
              "      <td>0.0</td>\n",
              "      <td>0.0</td>\n",
              "      <td>1.0</td>\n",
              "      <td>0.0</td>\n",
              "      <td>0.0</td>\n",
              "      <td>0.0</td>\n",
              "      <td>0.0</td>\n",
              "      <td>0.0</td>\n",
              "      <td>0.0</td>\n",
              "      <td>0.0</td>\n",
              "      <td>0.0</td>\n",
              "    </tr>\n",
              "    <tr>\n",
              "      <th>456854</th>\n",
              "      <td>2.0</td>\n",
              "      <td>15</td>\n",
              "      <td>81</td>\n",
              "      <td>2405</td>\n",
              "      <td>23.0</td>\n",
              "      <td>-1.0</td>\n",
              "      <td>6</td>\n",
              "      <td>-0.258819</td>\n",
              "      <td>0.965926</td>\n",
              "      <td>-0.104528</td>\n",
              "      <td>0.994522</td>\n",
              "      <td>0.965926</td>\n",
              "      <td>-0.258819</td>\n",
              "      <td>7.431448e-01</td>\n",
              "      <td>0.669131</td>\n",
              "      <td>0.5</td>\n",
              "      <td>0.866025</td>\n",
              "      <td>-2.449294e-16</td>\n",
              "      <td>1.00000</td>\n",
              "      <td>0.0</td>\n",
              "      <td>0.0</td>\n",
              "      <td>0.0</td>\n",
              "      <td>0.0</td>\n",
              "      <td>0.0</td>\n",
              "      <td>0.0</td>\n",
              "      <td>0.0</td>\n",
              "      <td>0.0</td>\n",
              "      <td>0.0</td>\n",
              "      <td>0.0</td>\n",
              "      <td>1.0</td>\n",
              "      <td>0.0</td>\n",
              "      <td>0.0</td>\n",
              "      <td>0.0</td>\n",
              "    </tr>\n",
              "  </tbody>\n",
              "</table>\n",
              "<p>456855 rows × 33 columns</p>\n",
              "</div>"
            ],
            "text/plain": [
              "        ARRIVAL_DELAY  ORIGIN  DESTINATION  DISTANCE  ...   10   11   12   13\n",
              "0               -22.0      15          268      1448  ...  0.0  0.0  0.0  0.0\n",
              "1                -9.0     168          226      2330  ...  0.0  0.0  0.0  0.0\n",
              "2                 5.0     269           62      2296  ...  0.0  1.0  0.0  0.0\n",
              "3                -9.0     168          195      2342  ...  0.0  0.0  0.0  0.0\n",
              "4               -21.0     268           15      1448  ...  0.0  0.0  0.0  0.0\n",
              "...               ...     ...          ...       ...  ...  ...  ...  ...  ...\n",
              "456850          -21.0     158           38      1576  ...  0.0  0.0  0.0  0.0\n",
              "456851          -13.0     268           88      1927  ...  0.0  0.0  0.0  0.0\n",
              "456852           23.0      81          294      1506  ...  0.0  0.0  0.0  0.0\n",
              "456853           29.0      81           18      1199  ...  0.0  0.0  0.0  0.0\n",
              "456854            2.0      15           81      2405  ...  1.0  0.0  0.0  0.0\n",
              "\n",
              "[456855 rows x 33 columns]"
            ]
          },
          "metadata": {
            "tags": []
          },
          "execution_count": 10
        }
      ]
    },
    {
      "cell_type": "markdown",
      "metadata": {
        "id": "B55lrKMh_Bjy"
      },
      "source": [
        "***Splitting into X and Y***"
      ]
    },
    {
      "cell_type": "code",
      "metadata": {
        "colab": {
          "base_uri": "https://localhost:8080/"
        },
        "id": "My1cl7lY_MU8",
        "outputId": "f12cdea1-2097-4c44-f60b-8c52cba3bdf1"
      },
      "source": [
        "X = Data.copy()\n",
        "X.drop(['ARRIVAL_DELAY'],axis=1, inplace = True)\n",
        "Y = Data['ARRIVAL_DELAY'].copy()\n",
        "\n",
        "for i in range(len(Y)):\n",
        "    if Y[i]<3: Y[i]=0\n",
        "    else: Y[i]=1\n",
        "\n",
        "X = X.to_numpy()\n",
        "Y = Y.to_numpy()\n",
        "print(X.shape)\n",
        "print(Y.shape)"
      ],
      "execution_count": null,
      "outputs": [
        {
          "output_type": "stream",
          "text": [
            "(456855, 32)\n",
            "(456855,)\n"
          ],
          "name": "stdout"
        }
      ]
    },
    {
      "cell_type": "markdown",
      "metadata": {
        "id": "V63CyXW3xQAv"
      },
      "source": [
        "***Splitting into Train, Val, Test***"
      ]
    },
    {
      "cell_type": "code",
      "metadata": {
        "colab": {
          "base_uri": "https://localhost:8080/"
        },
        "id": "X5u3LFuFxMWy",
        "outputId": "15c613ff-8082-492d-b766-65a348a702a2"
      },
      "source": [
        "X_train, X_test, y_train, y_test = train_test_split( X, Y, test_size=0.3, random_state=0, stratify = Y)\n",
        "X_val, X_test, y_val, y_test = train_test_split( X_test, y_test, test_size=0.66, random_state=0, stratify = y_test)\n",
        "\n",
        "print(X_train.shape, X_val.shape, X_test.shape)\n",
        "print(y_train.shape, y_val.shape, y_test.shape)"
      ],
      "execution_count": null,
      "outputs": [
        {
          "output_type": "stream",
          "text": [
            "(319798, 32) (46599, 32) (90458, 32)\n",
            "(319798,) (46599,) (90458,)\n"
          ],
          "name": "stdout"
        }
      ]
    },
    {
      "cell_type": "markdown",
      "metadata": {
        "id": "6gWDY-SOAwpS"
      },
      "source": [
        "***Standard Scaling***"
      ]
    },
    {
      "cell_type": "code",
      "metadata": {
        "id": "J5Y0OrAjAwUa"
      },
      "source": [
        "s = StandardScaler()\n",
        "s.fit(X_train)\n",
        "X_train = s.transform(X_train)\n",
        "X_val = s.transform(X_val)\n",
        "X_test = s.transform(X_test)"
      ],
      "execution_count": null,
      "outputs": []
    },
    {
      "cell_type": "markdown",
      "metadata": {
        "id": "_DFd7goDv-KH"
      },
      "source": [
        "### **Training Models**"
      ]
    },
    {
      "cell_type": "markdown",
      "metadata": {
        "id": "oBxp4DFSDsl3"
      },
      "source": [
        "***Logistic Regression***"
      ]
    },
    {
      "cell_type": "code",
      "metadata": {
        "id": "WzdwS5QTDvoj"
      },
      "source": [
        "logistic = LogisticRegression()\n",
        "logistic.fit(X_train,y_train)\n",
        "y_pred = logistic.predict(X_test)\n",
        "\n",
        "confusionMatrix = metrics.confusion_matrix(y_test, y_pred)\n",
        "score = logistic.score(X_test,y_test)\n",
        "print(score)\n",
        "\n",
        "sns.set(context=\"paper\")\n",
        "plt.subplots(figsize=(6,6))\n",
        "sns.heatmap(confusionMatrix, annot=True, fmt=\".0f\", linewidths=1.5, square = True);\n",
        "plt.ylabel('Actual label');\n",
        "plt.xlabel('Predicted label');\n",
        "plt.title(\"Confusion Matrix\", size = 15);\n",
        "plt.show()"
      ],
      "execution_count": null,
      "outputs": []
    },
    {
      "cell_type": "markdown",
      "metadata": {
        "id": "JjhHYnpqxarx"
      },
      "source": [
        "***SGD Classifier***"
      ]
    },
    {
      "cell_type": "code",
      "metadata": {
        "colab": {
          "base_uri": "https://localhost:8080/",
          "height": 376
        },
        "id": "dbEMcBUOyC3L",
        "outputId": "79fe5aa2-0e26-4abb-a0e3-676585fdc3a7"
      },
      "source": [
        "sgd = SGDClassifier()\n",
        "sgd.fit(X_train,y_train)\n",
        "y_pred = sgd.predict(X_test)\n",
        "\n",
        "confusionMatrix = metrics.confusion_matrix(y_test, y_pred)\n",
        "score = sgd.score(X_test,y_test)\n",
        "print(score)\n",
        "\n",
        "sns.set(context=\"paper\")\n",
        "plt.subplots(figsize=(6,6))\n",
        "sns.heatmap(confusionMatrix, annot=True, fmt=\".0f\", linewidths=1.5, square = True, cmap = 'winter');\n",
        "plt.ylabel('Actual label');\n",
        "plt.xlabel('Predicted label');\n",
        "plt.title(\"Confusion Matrix\", size = 15);\n",
        "plt.show()"
      ],
      "execution_count": null,
      "outputs": [
        {
          "output_type": "stream",
          "text": [
            "0.8639368546728868\n"
          ],
          "name": "stdout"
        },
        {
          "output_type": "display_data",
          "data": {
            "image/png": "[encoded data removed]",
            "text/plain": [
              "<Figure size 432x432 with 2 Axes>"
            ]
          },
          "metadata": {
            "tags": []
          }
        }
      ]
    },
    {
      "cell_type": "markdown",
      "metadata": {
        "id": "YFcFr5TGzIex"
      },
      "source": [
        "***Support Vector Machines***"
      ]
    },
    {
      "cell_type": "code",
      "metadata": {
        "colab": {
          "background_save": true,
          "base_uri": "https://localhost:8080/",
          "height": 376
        },
        "id": "97bAdo0MzIIm",
        "outputId": "20f6786d-bde2-4a0a-89b5-cee7a3824c3b"
      },
      "source": [
        "svc = BalancedBaggingClassifier(svm.LinearSVC(), n_jobs=-1)\n",
        "svc.fit(X_train,y_train)\n",
        "y_pred = svc.predict(X_test)\n",
        "\n",
        "confusionMatrix = metrics.confusion_matrix(y_test, y_pred)\n",
        "score = svc.score(X_test,y_test)\n",
        "print(score)\n",
        "\n",
        "sns.set(context=\"paper\")\n",
        "plt.subplots(figsize=(6,6))\n",
        "sns.heatmap(confusionMatrix, annot=True, fmt=\".0f\", linewidths=1.5, square = True, cmap = 'winter');\n",
        "plt.ylabel('Actual label');\n",
        "plt.xlabel('Predicted label');\n",
        "plt.title(\"Confusion Matrix\", size = 15);\n",
        "plt.show()"
      ],
      "execution_count": null,
      "outputs": [
        {
          "output_type": "stream",
          "text": [
            "0.8595480775608569\n"
          ],
          "name": "stdout"
        },
        {
          "output_type": "display_data",
          "data": {
            "image/png": "[encoded data removed]",
            "text/plain": [
              "<Figure size 600x600 with 2 Axes>"
            ]
          },
          "metadata": {
            "tags": []
          }
        }
      ]
    },
    {
      "cell_type": "markdown",
      "metadata": {
        "id": "0iqbL06LWAdN"
      },
      "source": [
        "***Neural Networks***"
      ]
    },
    {
      "cell_type": "code",
      "metadata": {
        "colab": {
          "background_save": true
        },
        "id": "Vuaax5gOWC12"
      },
      "source": [
        "# train = np.hstack((X_train, y_train[:, np.newaxis]))\n",
        "# val = np.hstack((X_val, y_val[:, np.newaxis]))\n",
        "# test = np.hstack((X_test, y_test[:, np.newaxis]))\n",
        "\n",
        "# model = tf.keras.models.Sequential([\n",
        "#   tf.keras.layers.Dense(128,activation='relu'),\n",
        "#   tf.keras.layers.Dense(2, activation='softmax')\n",
        "# ])\n",
        "\n",
        "# model.compile(\n",
        "#     loss='sparse_categorical_crossentropy',\n",
        "#     optimizer=tf.keras.optimizers.Adam(0.001),\n",
        "#     metrics=['accuracy'],\n",
        "# )\n",
        "\n",
        "# model.fit(\n",
        "#     train,\n",
        "#     epochs=6,\n",
        "# )"
      ],
      "execution_count": null,
      "outputs": []
    },
    {
      "cell_type": "markdown",
      "metadata": {
        "id": "SH0wEWi5819T"
      },
      "source": [
        "### **Finding Optimal Hyperparameters**\n"
      ]
    },
    {
      "cell_type": "code",
      "metadata": {
        "colab": {
          "background_save": true,
          "base_uri": "https://localhost:8080/"
        },
        "id": "vQtwjZSS81nM",
        "outputId": "1f988ee3-ddd3-4730-da17-2c8b7a524ce1"
      },
      "source": [
        "'''\n",
        "Enter the parameter and it's possible types here \n",
        "If max_depth = 10,100,1000 and loss = L1,L2\n",
        "The code will run 3*2 times.\n",
        "For plotting the graph, please keep only 2 sets of parameters as it's a 2D graph.\n",
        "Otherwise one would have to split the array and it will lead to confusion.\n",
        "'''\n",
        "# # Logistic Regression\n",
        "parameters = {\n",
        "    'penalty': ['l2'],\n",
        "    'fit_intercept': [True, False],\n",
        "    'max_iter': [2,4,6,8,10],\n",
        "    'n_jobs': [-1]}\n",
        "\n",
        "clf = GridSearchCV(LogisticRegression(), parameters, n_jobs=-1, cv=3)\n",
        "clf.fit(X_train,y_train)\n",
        "print(\"Best Score:\", clf.best_score_)\n",
        "print(\"Best Parameters:\", clf.best_params_)\n",
        "\n",
        "bestEstimator = clf.best_estimator_\n",
        "y_pred = bestEstimator.predict(X_test)\n",
        "score = bestEstimator.score(X_test,y_test)\n",
        "print(\"Test Score:\", score)"
      ],
      "execution_count": null,
      "outputs": [
        {
          "output_type": "stream",
          "text": [
            "Best Score: 0.8633043348717683\n",
            "Best Parameters: {'fit_intercept': True, 'max_iter': 10, 'n_jobs': -1, 'penalty': 'l2'}\n",
            "Test Score: 0.8641579517566164\n"
          ],
          "name": "stdout"
        }
      ]
    },
    {
      "cell_type": "code",
      "metadata": {
        "colab": {
          "background_save": true,
          "base_uri": "https://localhost:8080/",
          "height": 411
        },
        "id": "tdlLuMp6fzpI",
        "outputId": "b5307f1d-e23b-44d9-bb23-1f13d90ddcf8"
      },
      "source": [
        "# Plotting the parameters\n",
        "\n",
        "param_xAxis_name = 'max_iter' # parameter that you want in the x axis. (max_iter, n_estimators etc. are preferred)\n",
        "param_color_name = 'fit_intercept' # parameter that you want as the different colored curves\n",
        "\n",
        "param_xAxis = parameters[param_xAxis_name]\n",
        "param_color = parameters[param_color_name]\n",
        "\n",
        "mean_test_score = clf.cv_results_['mean_test_score']\n",
        "mean_test_score = np.array(mean_test_score).reshape(len(param_color), len(param_xAxis))\n",
        "\n",
        "_, ax = plt.subplots(1,1, figsize=(9,6))\n",
        "\n",
        "for i in range(len(param_color)):\n",
        "    ax.plot(param_xAxis, mean_test_score[i,:], label=param_color_name+': ' + str(param_color[i]))\n",
        "\n",
        "ax.set_title(\"Grid Search CV Scores for Logistic Regression\", fontsize=18, fontweight='bold')\n",
        "ax.set_xlabel(param_xAxis_name, fontsize=14)\n",
        "ax.set_ylabel('CV Avg Score', fontsize=14)\n",
        "ax.legend(fontsize=14)\n",
        "plt.show()"
      ],
      "execution_count": null,
      "outputs": [
        {
          "output_type": "display_data",
          "data": {
            "image/png": "[encoded data removed]",
            "text/plain": [
              "<Figure size 900x600 with 1 Axes>"
            ]
          },
          "metadata": {
            "tags": []
          }
        }
      ]
    },
    {
      "cell_type": "code",
      "metadata": {
        "colab": {
          "background_save": true,
          "base_uri": "https://localhost:8080/"
        },
        "id": "RnpdTD2wUOGT",
        "outputId": "b51ba8bc-1c8d-4c8d-d2b6-6fa08968a744"
      },
      "source": [
        "# # SGDClassifier\n",
        "parameters = {\n",
        "    'penalty': ['l1','l2'],\n",
        "    'max_iter': [50, 100, 250, 500, 1000, 2500, 5000, 7500, 10000],\n",
        "    'n_jobs': [-1]}\n",
        "\n",
        "clf = GridSearchCV(SGDClassifier(), parameters, n_jobs=-1, cv=4)\n",
        "clf.fit(X_train,y_train)\n",
        "print(\"Best Score:\", clf.best_score_)\n",
        "print(\"Best Parameters:\", clf.best_params_)\n",
        "\n",
        "bestEstimator = clf.best_estimator_\n",
        "y_pred = bestEstimator.predict(X_test)\n",
        "score = bestEstimator.score(X_test,y_test)\n",
        "print(\"Test Score:\", score)"
      ],
      "execution_count": null,
      "outputs": [
        {
          "output_type": "stream",
          "text": [
            "Best Score: 0.8624412900622521\n",
            "Best Parameters: {'max_iter': 100, 'n_jobs': -1, 'penalty': 'l1'}\n",
            "Test Score: 0.8635830993389197\n"
          ],
          "name": "stdout"
        }
      ]
    },
    {
      "cell_type": "code",
      "metadata": {
        "colab": {
          "background_save": true,
          "base_uri": "https://localhost:8080/",
          "height": 411
        },
        "id": "spyLAVwfdPJX",
        "outputId": "5163dc4f-137e-4f20-8244-493a6a10faab"
      },
      "source": [
        "# Plotting the parameters\n",
        "\n",
        "param_xAxis_name = 'max_iter' # parameter that you want in the x axis. (max_iter, n_estimators etc. are preferred)\n",
        "param_color_name = 'penalty' # parameter that you want as the different colored curves\n",
        "\n",
        "param_xAxis = parameters[param_xAxis_name]\n",
        "param_color = parameters[param_color_name]\n",
        "\n",
        "mean_test_score = clf.cv_results_['mean_test_score']\n",
        "mean_test_score = np.array(mean_test_score).reshape(len(param_color), len(param_xAxis))\n",
        "\n",
        "_, ax = plt.subplots(1,1, figsize=(9,6))\n",
        "\n",
        "for i in range(len(param_color)):\n",
        "    ax.plot(param_xAxis, mean_test_score[i,:], label=param_color_name+': ' + str(param_color[i]))\n",
        "\n",
        "ax.set_title(\"Grid Search CV Scores for SGD Classifier\", fontsize=18, fontweight='bold')\n",
        "ax.set_xlabel(param_xAxis_name, fontsize=14)\n",
        "ax.set_ylabel('CV Avg Score', fontsize=14)\n",
        "ax.legend(fontsize=14)\n",
        "plt.show()"
      ],
      "execution_count": null,
      "outputs": [
        {
          "output_type": "display_data",
          "data": {
            "image/png": "[encoded data removed]",
            "text/plain": [
              "<Figure size 900x600 with 1 Axes>"
            ]
          },
          "metadata": {
            "tags": []
          }
        }
      ]
    },
    {
      "cell_type": "code",
      "metadata": {
        "id": "x4E21bglgbfd"
      },
      "source": [
        "# # SVC\n",
        "parameters = {\n",
        "    'penalty': ['l1','l2'],\n",
        "    'max_iter': [50, 100, 250, 500, 1000, 2500, 5000, 7500, 10000]}\n",
        "\n",
        "clf = GridSearchCV(svm.LinearSVC(), parameters, n_jobs=-1, cv=4)\n",
        "clf.fit(X_train,y_train)\n",
        "print(\"Best Score:\", clf.best_score_)\n",
        "print(\"Best Parameters:\", clf.best_params_)\n",
        "\n",
        "bestEstimator = clf.best_estimator_\n",
        "y_pred = bestEstimator.predict(X_test)\n",
        "score = bestEstimator.score(X_test,y_test)\n",
        "print(\"Test Score:\", score)"
      ],
      "execution_count": null,
      "outputs": []
    },
    {
      "cell_type": "code",
      "metadata": {
        "id": "l3O8J0vTg84F"
      },
      "source": [
        "# Plotting the parameters\n",
        "\n",
        "param_xAxis_name = 'max_iter' # parameter that you want in the x axis. (max_iter, n_estimators etc. are preferred)\n",
        "param_color_name = 'penalty' # parameter that you want as the different colored curves\n",
        "\n",
        "param_xAxis = parameters[param_xAxis_name]\n",
        "param_color = parameters[param_color_name]\n",
        "\n",
        "mean_test_score = clf.cv_results_['mean_test_score']\n",
        "mean_test_score = np.array(mean_test_score).reshape(len(param_color), len(param_xAxis))\n",
        "\n",
        "_, ax = plt.subplots(1,1, figsize=(9,6))\n",
        "\n",
        "for i in range(len(param_color)):\n",
        "    ax.plot(param_xAxis, mean_test_score[i,:], label=param_color_name+': ' + str(param_color[i]))\n",
        "\n",
        "ax.set_title(\"Grid Search CV Scores for SVC\", fontsize=18, fontweight='bold')\n",
        "ax.set_xlabel(param_xAxis_name, fontsize=14)\n",
        "ax.set_ylabel('CV Avg Score', fontsize=14)\n",
        "ax.legend(fontsize=14)\n",
        "plt.show()"
      ],
      "execution_count": null,
      "outputs": []
    },
    {
      "cell_type": "markdown",
      "metadata": {
        "id": "3e5OnjdJx-Tu"
      },
      "source": [
        "Random forest \n"
      ]
    },
    {
      "cell_type": "code",
      "metadata": {
        "id": "B50lkiqtx8AX"
      },
      "source": [
        "parametersrf = {\n",
        "    'criterion': [\"gini\", \"entropy\"],\n",
        "    'class_weight': [None, \"balanced\"],\n",
        "    'n_estimators': [200,400,600]\n",
        "    }\n",
        "\n",
        "clfrf = GridSearchCV(RandomForestClassifier(), parametersrf, n_jobs=-1, cv=3)\n",
        "clfrf.fit(X_train,y_train)\n",
        "print(\"Best Score:\", clfrf.best_score_)\n",
        "print(\"Best Parameters:\", clfrf.best_params_)\n",
        "bestEstimatorrf = clfrf.best_estimator_\n",
        "\n",
        "y_pred = bestEstimatorrf.predict(X_test)\n",
        "\n",
        "confusionMatrix = metrics.confusion_matrix(y_test, y_pred)\n",
        "score = bestEstimatorrf.score(X_test,y_test)\n",
        "print(score)"
      ],
      "execution_count": null,
      "outputs": []
    },
    {
      "cell_type": "markdown",
      "metadata": {
        "id": "z6dWVSDiyRck"
      },
      "source": [
        "Plotting hyper params\n"
      ]
    },
    {
      "cell_type": "code",
      "metadata": {
        "id": "7NTdNbqjyUXh"
      },
      "source": [
        "param_xAxis_name = 'n_estimators' # parameter that you want in the x axis. (max_iter, n_estimators etc. are preferred)\n",
        "param_color_name = 'criterion' # parameter that you want as the different colored curves\n",
        "\n",
        "param_xAxis = parametersrf[param_xAxis_name]\n",
        "param_color = parametersrf[param_color_name]\n",
        "param_label = parameters[\"class_weight\"]\n",
        "mean_test_score = clfrf.cv_results_['mean_test_score']\n",
        "mean_test_score_none = mean_test_score[:len(mean_test_score)//2]\n",
        "mean_test_score_bal = mean_test_score[len(mean_test_score)//2:]\n",
        "mean_test_score_none = np.array(mean_test_score_none).reshape(len(param_color), len(param_xAxis))\n",
        "mean_test_score_bal = np.array(mean_test_score_bal).reshape(len(param_color), len(param_xAxis))\n",
        "\n",
        "\n",
        "_, ax = plt.subplots(1,1, figsize=(9,6))\n",
        "\n",
        "for i in range(len(param_color)):\n",
        "    ax.plot(param_xAxis, mean_test_score_none[i,:], label=param_color_name+': ' + str(param_color[i]) + \", class weight:\" + str(param_label[i]))\n",
        "    ax.plot(param_xAxis, mean_test_score_bal[i,:], label=param_color_name+': ' + str(param_color[i]) + \", class weight:\" + str(param_label[i]))\n",
        "\n",
        "ax.set_title(\"Grid Search CV Scores for Random Forest Classifier\", fontsize=18, fontweight='bold')\n",
        "ax.set_xlabel(param_xAxis_name, fontsize=14)\n",
        "ax.set_ylabel('CV Avg Score', fontsize=14)\n",
        "ax.legend(fontsize=14, bbox_to_anchor=(1.05, 1), title = \"Criterion, class weight\")\n",
        "plt.setp(legend.get_title(),fontsize='x-large')\n",
        "plt.show()"
      ],
      "execution_count": null,
      "outputs": []
    },
    {
      "cell_type": "markdown",
      "metadata": {
        "id": "71O1G7oJyBN5"
      },
      "source": [
        "Gaussian Naive Bayes"
      ]
    },
    {
      "cell_type": "code",
      "metadata": {
        "id": "hmQUeaIbyAfV"
      },
      "source": [
        "parametersnb = {\n",
        "    \"var_smoothing\": [10**-20,10**-11,10**-9, 10**-7, 10**-5, 10**-2]\n",
        "    }\n",
        "\n",
        "clfnb = GridSearchCV(GaussianNB(), parameters, n_jobs=-1, cv=3)\n",
        "clfnb.fit(X_train,y_train)\n",
        "print(\"Best Score:\", clfnb.best_score_)\n",
        "print(\"Best Parameters:\", clfnb.best_params_)\n",
        "bestEstimatornb = clfnb.best_estimator_\n",
        "y_pred = bestEstimatornb.predict(X_test)\n",
        "\n",
        "confusionMatrix = metrics.confusion_matrix(y_test, y_pred)\n",
        "print(confusionMatrix)\n",
        "scorenb = bestEstimatornb.score(X_test,y_test)\n",
        "print(scorenb)"
      ],
      "execution_count": null,
      "outputs": []
    },
    {
      "cell_type": "markdown",
      "metadata": {
        "id": "Tj6TWvVCyaAr"
      },
      "source": [
        "Plotting hyperparameters"
      ]
    },
    {
      "cell_type": "code",
      "metadata": {
        "id": "iTQm_o5byJ8c"
      },
      "source": [
        "param_xAxis_name = 'var_smoothing' # parameter that you want in the x axis. (max_iter, n_estimators etc. are preferred)\n",
        "\n",
        "param_xAxis = parameters[param_xAxis_name]\n",
        "param_label = parameters[param_xAxis_name]\n",
        "print(clfnb.cv_results_[\"params\"])\n",
        "mean_test_score = clfnb.cv_results_['mean_test_score']\n",
        "\n",
        "_, ax = plt.subplots(1,1, figsize=(9,6))\n",
        "\n",
        "ax.plot(param_xAxis, mean_test_score)\n",
        "ax.set_title(\"Grid Search CV Scores for Gaussian naive bayes\", fontsize=18, fontweight='bold')\n",
        "ax.set_xlabel(param_xAxis_name, fontsize=14)\n",
        "ax.set_ylabel('CV Avg Score', fontsize=14)\n",
        "\n",
        "plt.show()"
      ],
      "execution_count": null,
      "outputs": []
    },
    {
      "cell_type": "markdown",
      "metadata": {
        "id": "iPZwERV2yaQr"
      },
      "source": [
        "XGB Classifier\n"
      ]
    },
    {
      "cell_type": "code",
      "metadata": {
        "id": "tyCbeG9vygEP"
      },
      "source": [
        "parameters = {\n",
        "    'max_depth':[5,7,15],\n",
        "    'learning_rate': [0.01,0.001,0.1],\n",
        "    'class_weight': [None, \"balanced\"],\n",
        "    'n_estimators': [100,200,300]\n",
        "    }\n",
        "\n",
        "clf = GridSearchCV(XGBClassifier(), parameters, n_jobs=-1, cv=3)\n",
        "clf.fit(X_train,y_train)\n",
        "print(\"Best Score:\", clf.best_score_)\n",
        "print(\"Best Parameters:\", clf.best_params_)\n",
        "bestEstimator = clf.best_estimator_\n",
        "y_pred = bestEstimator.predict(X_test)\n",
        "\n",
        "confusionMatrix = metrics.confusion_matrix(y_test, y_pred)\n",
        "score = bestEstimator.score(X_test,y_test)\n",
        "print(score)"
      ],
      "execution_count": null,
      "outputs": []
    },
    {
      "cell_type": "markdown",
      "metadata": {
        "id": "aHgaNFKVylpV"
      },
      "source": [
        "Plotting hyper-parameter"
      ]
    },
    {
      "cell_type": "code",
      "metadata": {
        "id": "J_85E8g_yhA6"
      },
      "source": [
        "# Plotting the parameters\n",
        "\n",
        "param_xAxis_name = 'n_estimators' # parameter that you want in the x axis. (max_iter, n_estimators etc. are preferred)\n",
        "param_color_name = 'max_depth' # parameter that you want as the different colored curves\n",
        "\n",
        "param_xAxis = parameters[param_xAxis_name]\n",
        "param_color = parameters[param_color_name]\n",
        "param_breaks = clf.cv_results_[\"params\"]\n",
        "mean_score = clf.cv_results_[\"mean_test_score\"]\n",
        "scores_list = [[] for i in range(6)]\n",
        "j, k = len(param_xAxis)*len(param_color), 0\n",
        "labels = dict()\n",
        "for i in param_breaks:\n",
        "    scores_list[k//j].append(mean_score[k]) \n",
        "    labels[\"learning_rate:\"+str(clf.cv_results_[\"params\"][k][\"learning_rate\"]) + \", class_weight:\"+str(clf.cv_results_[\"params\"][k][\"class_weight\"])] = k//j\n",
        "    k += 1\n",
        "\n",
        "labels = {v: k for k, v in labels.items()}\n",
        "mean_test_score = np.array(scores_list).reshape(len(scores_list), len(param_color), len(param_xAxis))\n",
        "\n",
        "_, ax = plt.subplots(1,1, figsize=(9,6))\n",
        "\n",
        "for i in range(len(param_color)):\n",
        "    for j in range(len(mean_test_score)):\n",
        "        ax.plot(param_xAxis, mean_test_score[j,i,:], label=param_color_name+': ' + str(param_color[i]) + \",\" + labels[j])\n",
        "    \n",
        "\n",
        "ax.set_title(\"Grid Search CV Scores for XGB Classifier\", fontsize=18, fontweight='bold')\n",
        "ax.set_xlabel(param_xAxis_name, fontsize=14)\n",
        "ax.set_ylabel('CV Avg Score', fontsize=14)\n",
        "ax.legend(fontsize=14,  bbox_to_anchor=(1, 1.1), title = \"max depth, learning rate, class weight\")\n",
        "plt.setp(legend.get_title(),fontsize='x-large')\n",
        "plt.show()"
      ],
      "execution_count": null,
      "outputs": []
    },
    {
      "cell_type": "markdown",
      "metadata": {
        "id": "Wqc5l0RdaOCR"
      },
      "source": [
        "###**ROC - AUC curve**"
      ]
    },
    {
      "cell_type": "code",
      "metadata": {
        "colab": {
          "base_uri": "https://localhost:8080/",
          "height": 459
        },
        "id": "fmIcpVsH18KQ",
        "outputId": "37c72530-ce7c-4939-8385-68e05cca9438"
      },
      "source": [
        "logistic = LogisticRegression()\n",
        "logistic.fit(X_train,y_train)\n",
        "y_pred_logistic = logistic.predict_proba(X_test)\n",
        "\n",
        "fpr_logistic, tpr_logistic, threshold_logistic = metrics.roc_curve(y_test, y_pred_logistic[:, 1])\n",
        "roc_auc = metrics.auc(fpr_logistic, tpr_logistic)\n",
        "\n",
        "plt.subplots(figsize=(9,7))\n",
        "plt.title(\"Receiver Operating Characteristic\", fontsize=14)\n",
        "plt.plot(fpr, tpr, label = \"Logistic Regression AUC = %0.2f\"%roc_auc)\n",
        "plt.plot([0,1], [0,1], \"--\", label=\"No skill\")\n",
        "plt.legend(loc = \"lower right\", prop={'size': 12})\n",
        "plt.ylabel(\"True Positive Rate\")\n",
        "plt.xlabel(\"False Positive Rate\")\n",
        "\n",
        "plt.show()"
      ],
      "execution_count": null,
      "outputs": [
        {
          "output_type": "display_data",
          "data": {
            "image/png": "[encoded data removed]",
            "text/plain": [
              "<Figure size 648x504 with 1 Axes>"
            ]
          },
          "metadata": {
            "tags": []
          }
        }
      ]
    },
    {
      "cell_type": "markdown",
      "metadata": {
        "id": "OoT6GT9_aeE2"
      },
      "source": [
        "***Getting the scores***"
      ]
    },
    {
      "cell_type": "code",
      "metadata": {
        "id": "qAe9xESJaNNs"
      },
      "source": [
        "# scoresXGB = bestEstimator.predict_proba(X_test)\n",
        "# fprXGB, tprXGB, thresholdsXGB = metrics.roc_curve(y_test,scoresXGB[:,1])\n",
        "\n",
        "# scoresRf = bestEstimatorrf.predict_proba(X_test)\n",
        "# fprRf, tprRf, thresholdsRf = metrics.roc_curve(y_test,scoresRf[:,1])\n",
        "\n",
        "# scoresnb = bestEstimatornb.predict_proba(X_test)\n",
        "# fprnb, tprnb, thresholdsnb = metrics.roc_curve(y_test,scoresnb[:,1])\n",
        "\n",
        "# roc_aucnb = metrics.auc(fprnb, tprnb)\n",
        "\n",
        "logistic = LogisticRegression()\n",
        "logistic.fit(X_train,y_train)\n",
        "scoresLog = logistic.predict_proba(X_test)\n",
        "fprLog, tprLog, thresholdsLog = metrics.roc_curve(y_test,scoresLog[:,1])\n",
        "\n",
        "#AUC \n",
        "roc_auc = metrics.auc(fprLog, tprLog)\n",
        "# roc_aucRf = metrics.auc(fprRf, tprRf)\n",
        "# roc_aucXGB = metrics.auc(fprXGB, tprXGB)"
      ],
      "execution_count": null,
      "outputs": []
    },
    {
      "cell_type": "markdown",
      "metadata": {
        "id": "fCQerCwdaiAV"
      },
      "source": [
        "***Plotting the curves***\n"
      ]
    },
    {
      "cell_type": "code",
      "metadata": {
        "id": "OgLGePftag7s",
        "colab": {
          "base_uri": "https://localhost:8080/",
          "height": 393
        },
        "outputId": "427e36e7-8178-4508-a3bf-78adc8df44fc"
      },
      "source": [
        "plt.title(\"Receiver Operating Characteristic\")\n",
        "# plt.plot(fprXGB, tprXGB, label = \"XGB AUC = %0.2f\"%roc_aucXGB)\n",
        "# plt.plot(fprRf, tprRf, label = \"RF AUC = %0.2f\"%roc_aucRf)\n",
        "plt.plot(fprLog, tprLog, label = \"LR AUC = %0.2f\"%roc_auc)\n",
        "plt.legend(loc = \"lower right\")\n",
        "plt.plot([0,1],[0,1],\"r--\")\n",
        "# plt.xlim([0,1.1])\n",
        "# plt.ylim([0,1.1])\n",
        "plt.ylabel(\"True Positive Rate\")\n",
        "plt.xlabel(\"False Positive Rate\")"
      ],
      "execution_count": null,
      "outputs": [
        {
          "output_type": "execute_result",
          "data": {
            "text/plain": [
              "Text(0.5, 0, 'False Positive Rate')"
            ]
          },
          "metadata": {
            "tags": []
          },
          "execution_count": 105
        },
        {
          "output_type": "display_data",
          "data": {
            "image/png": "[encoded data removed]",
            "text/plain": [
              "<Figure size 576x396 with 1 Axes>"
            ]
          },
          "metadata": {
            "tags": []
          }
        }
      ]
    },
    {
      "cell_type": "code",
      "metadata": {
        "colab": {
          "base_uri": "https://localhost:8080/"
        },
        "id": "5zIVuS5Tu7-w",
        "outputId": "183d5411-1c67-4f55-bbef-e5eddb1010b2"
      },
      "source": [
        "logistic = LogisticRegression()\n",
        "logistic.fit(X_train,y_train)\n",
        "y_pred = logistic.predict(X_test)\n",
        "print(metrics.classification_report(y_test, y_pred))\n",
        "tn, fp, fn, tp = metrics.confusion_matrix(y_test, y_pred).ravel()\n",
        "tn, fp, fn, tp"
      ],
      "execution_count": null,
      "outputs": [
        {
          "output_type": "stream",
          "text": [
            "              precision    recall  f1-score   support\n",
            "\n",
            "         0.0       0.86      0.94      0.90     57811\n",
            "         1.0       0.88      0.73      0.79     32647\n",
            "\n",
            "    accuracy                           0.86     90458\n",
            "   macro avg       0.87      0.83      0.85     90458\n",
            "weighted avg       0.87      0.86      0.86     90458\n",
            "\n"
          ],
          "name": "stdout"
        },
        {
          "output_type": "execute_result",
          "data": {
            "text/plain": [
              "(54439, 3372, 8913, 23734)"
            ]
          },
          "metadata": {
            "tags": []
          },
          "execution_count": 92
        }
      ]
    },
    {
      "cell_type": "markdown",
      "metadata": {
        "id": "PsLIw0GOqqHG"
      },
      "source": [
        "#### *Extra*"
      ]
    },
    {
      "cell_type": "code",
      "metadata": {
        "id": "d9D1evpGqpAY"
      },
      "source": [
        "scores_M = [0.8593049336275421, 0.8614312765753646, 0.8633043338450851, 0.8638703166298608, 0.8650804560874074, 0.8667658958323355, 0.8664438189479734, 0.868748398674884, 0.8704119475393517, 0.8562561352754495, 0.8569315624597009, 0.8575069234381396, 0.8596707926248314, 0.8610779304702095, 0.8620066423352135, 0.8559809584822163, 0.8590672831025117, 0.8612405313042131, 0.8709153885678216, 0.8752212334207017, 0.8773131802813864, 0.8748522503144452, 0.8792081259675278, 0.8814407858031373, 0.8772600204148033, 0.8798772955763606, 0.8805558497149585, 0.8593049336275421, 0.8614312765753646, 0.8633043338450851, 0.8638703166298608, 0.8650804560874074, 0.8667658958323355, 0.8664438189479734, 0.868748398674884, 0.8704119475393517, 0.8562561352754495, 0.8569315624597009, 0.8575069234381396, 0.8596707926248314, 0.8610779304702095, 0.8620066423352135, 0.8559809584822163, 0.8590672831025117, 0.8612405313042131, 0.8709153885678216, 0.8752212334207017, 0.8773131802813864, 0.8748522503144452, 0.8792081259675278, 0.8814407858031373, 0.8772600204148033, 0.8798772955763606, 0.8805558497149585]\n",
        "\n",
        "classWeightNone = scores_M[:27]\n",
        "classWeightBalanced = scores_M[27:]\n",
        "\n",
        "# Below is for Class Weight = None\n",
        "classWeightNone_LearningRate0_01 = classWeightNone[:9]\n",
        "classWeightNone_LearningRate0_001 = classWeightNone[9:18]\n",
        "classWeightNone_LearningRate0_1 = classWeightNone[18:]\n",
        "\n",
        "# Below is for Class Weight = Balanced\n",
        "classWeightBalanced_LearningRate0_01 = classWeightBalanced[:9]\n",
        "classWeightBalanced_LearningRate0_001 = classWeightBalanced[9:18]\n",
        "classWeightBalanced_LearningRate0_1 = classWeightBalanced[18:]\n",
        "\n",
        "def multiplePlots(mean_test_score, text):\n",
        "    mean_test_score = np.asarray(mean_test_score)\n",
        "\n",
        "    parameters = {\n",
        "    'max_depth':[5,7,15],\n",
        "    'learning_rate': [0.01,0.001,0.1],\n",
        "    'class_weight': [None, \"balanced\"],\n",
        "    'n_estimators': [100,200,300]\n",
        "    }\n",
        "\n",
        "    # Plotting the parameters\n",
        "\n",
        "    param_xAxis_name = 'n_estimators' # parameter that you want in the x axis. (max_iter, n_estimators etc. are preferred)\n",
        "    param_color_name = 'max_depth' # parameter that you want as the different colored curves\n",
        "\n",
        "    param_xAxis = parameters[param_xAxis_name]\n",
        "    param_color = parameters[param_color_name]\n",
        "\n",
        "    mean_test_score = np.array(mean_test_score).reshape(len(param_color), len(param_xAxis))\n",
        "\n",
        "    _, ax = plt.subplots(1,1, figsize=(9,6))\n",
        "\n",
        "    for i in range(len(param_color)):\n",
        "        ax.plot(param_xAxis, mean_test_score[i,:], label=param_color_name+': ' + str(param_color[i]))\n",
        "\n",
        "    ax.set_title(\"XGBClassifier \"+text, fontsize=18, fontweight='bold')\n",
        "    ax.set_xlabel(param_xAxis_name, fontsize=14)\n",
        "    ax.set_ylabel('CV Avg Score', fontsize=14)\n",
        "    ax.legend(fontsize=14)\n",
        "    plt.show()\n",
        "\n",
        "multiplePlots(classWeightNone_LearningRate0_01, \"Class weight: None, Learning rate: 0.01\")\n",
        "multiplePlots(classWeightNone_LearningRate0_001, \"Class weight: None, Learning rate: 0.001\")\n",
        "multiplePlots(classWeightNone_LearningRate0_1, \"Class weight: None, Learning rate: 0.1\")\n",
        "multiplePlots(classWeightBalanced_LearningRate0_01, \"Class weight: Balanced, Learning rate: 0.01\")\n",
        "multiplePlots(classWeightBalanced_LearningRate0_001, \"Class weight: Balanced, Learning rate: 0.001\")\n",
        "multiplePlots(classWeightBalanced_LearningRate0_1, \"Class weight: Balanced, Learning rate: 0.1\")"
      ],
      "execution_count": null,
      "outputs": []
    }
  ]
}